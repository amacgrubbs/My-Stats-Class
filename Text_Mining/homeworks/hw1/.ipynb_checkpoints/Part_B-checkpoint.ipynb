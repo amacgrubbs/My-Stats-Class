{
 "cells": [
  {
   "cell_type": "code",
   "execution_count": 1,
   "metadata": {
    "collapsed": true
   },
   "outputs": [],
   "source": [
    "# base imports\n",
    "import nltk\n",
    "import pandas as pd\n"
   ]
  },
  {
   "cell_type": "markdown",
   "metadata": {},
   "source": [
    "### Setup Steps"
   ]
  },
  {
   "cell_type": "code",
   "execution_count": 2,
   "metadata": {
    "collapsed": false
   },
   "outputs": [],
   "source": [
    "salaryData = pd.read_csv('data/Train_rev1.csv')[['FullDescription', 'SalaryNormalized']][:1000]"
   ]
  },
  {
   "cell_type": "code",
   "execution_count": 3,
   "metadata": {
    "collapsed": false
   },
   "outputs": [],
   "source": [
    "top_quartile = salaryData['SalaryNormalized'].describe()['75%']\n",
    "salaryData['high'] = (salaryData['SalaryNormalized'] > top_quartile).astype(int)\n",
    "salaryData.drop('SalaryNormalized', axis=1, inplace=True)"
   ]
  },
  {
   "cell_type": "code",
   "execution_count": 4,
   "metadata": {
    "collapsed": false
   },
   "outputs": [],
   "source": [
    "# data splits\n",
    "from sklearn.cross_validation import train_test_split\n",
    "\n",
    "X_train, X_test, y_train, y_test = train_test_split(salaryData['FullDescription'],\n",
    "                                                    salaryData['high'],\n",
    "                                                    test_size=0.4, random_state=1)"
   ]
  },
  {
   "cell_type": "markdown",
   "metadata": {},
   "source": [
    "### B1 Bag-of-words"
   ]
  },
  {
   "cell_type": "code",
   "execution_count": 5,
   "metadata": {
    "collapsed": false
   },
   "outputs": [],
   "source": [
    "from sklearn.feature_extraction.text import CountVectorizer\n",
    "trainVectorizer = CountVectorizer(min_df=1)"
   ]
  },
  {
   "cell_type": "code",
   "execution_count": 6,
   "metadata": {
    "collapsed": false
   },
   "outputs": [],
   "source": [
    "trainVectorCount = trainVectorizer.fit_transform(X_train)\n",
    "testVectorCount = trainVectorizer.transform(X_test)"
   ]
  },
  {
   "cell_type": "code",
   "execution_count": 7,
   "metadata": {
    "collapsed": false
   },
   "outputs": [],
   "source": [
    "from sklearn.naive_bayes import MultinomialNB\n",
    "classifier = MultinomialNB()\n",
    "model = classifier.fit(trainVectorCount, y_train)"
   ]
  },
  {
   "cell_type": "code",
   "execution_count": 8,
   "metadata": {
    "collapsed": false
   },
   "outputs": [
    {
     "name": "stdout",
     "output_type": "stream",
     "text": [
      "[[258  35]\n",
      " [ 23  84]]\n"
     ]
    }
   ],
   "source": [
    "from sklearn.metrics import confusion_matrix\n",
    "y_hat_train = model.predict(trainVectorCount)\n",
    "\n",
    "cm = confusion_matrix(y_train,y_hat_train)\n",
    "y_hat_test = model.predict(testVectorCount)\n",
    "cm2 = confusion_matrix(y_test,y_hat_test)\n",
    "print cm2"
   ]
  },
  {
   "cell_type": "code",
   "execution_count": 9,
   "metadata": {
    "collapsed": false
   },
   "outputs": [
    {
     "name": "stdout",
     "output_type": "stream",
     "text": [
      "Populating the interactive namespace from numpy and matplotlib\n"
     ]
    },
    {
     "name": "stderr",
     "output_type": "stream",
     "text": [
      "WARNING: pylab import has clobbered these variables: ['cm']\n",
      "`%matplotlib` prevents importing * from pylab and numpy\n"
     ]
    },
    {
     "data": {
      "image/png": "[encoded data removed]",
      "text/plain": [
       "<matplotlib.figure.Figure at 0x1273c47d0>"
      ]
     },
     "metadata": {},
     "output_type": "display_data"
    }
   ],
   "source": [
    "%pylab inline\n",
    "plt.matshow(cm2)\n",
    "plt.title('Confusion matrix Bag-of-Words')\n",
    "plt.colorbar()\n",
    "plt.ylabel('True label')\n",
    "plt.xlabel('Predicted label')\n",
    "plt.show()"
   ]
  },
  {
   "cell_type": "markdown",
   "metadata": {},
   "source": [
    "### B2 Lemmatization"
   ]
  },
  {
   "cell_type": "markdown",
   "metadata": {},
   "source": [
    "We would expect that the lemmatization model would perform better since it is not tokenizing based only on punctuation but on the root of the word. This would in theory mean that a classification model would be able to classify documents based on the root words instead of particular conjugations and thus perform better since there are fewer features (i.e. multiple conjugations/features collapse into one root)."
   ]
  },
  {
   "cell_type": "code",
   "execution_count": 10,
   "metadata": {
    "collapsed": true
   },
   "outputs": [],
   "source": [
    "from nltk import word_tokenize\n",
    "from nltk.stem import WordNetLemmatizer\n",
    "class LemmaTokenizer(object):\n",
    "    def __init__(self):\n",
    "        self.wnl = WordNetLemmatizer()\n",
    "    def __call__(self, doc):\n",
    "        return [self.wnl.lemmatize(t) for t in word_tokenize(doc)]\n",
    "\n",
    "LemmaVector = CountVectorizer(tokenizer=LemmaTokenizer())"
   ]
  },
  {
   "cell_type": "code",
   "execution_count": 11,
   "metadata": {
    "collapsed": false,
    "scrolled": true
   },
   "outputs": [],
   "source": [
    "trainVectorLemma = LemmaVector.fit_transform(X_train)\n",
    "testVectorLemma = LemmaVector.transform(X_test)"
   ]
  },
  {
   "cell_type": "code",
   "execution_count": 12,
   "metadata": {
    "collapsed": true
   },
   "outputs": [],
   "source": [
    "classifierLemma = MultinomialNB()\n",
    "modelLemma = classifierLemma.fit(trainVectorLemma, y_train)"
   ]
  },
  {
   "cell_type": "code",
   "execution_count": 13,
   "metadata": {
    "collapsed": false
   },
   "outputs": [
    {
     "name": "stdout",
     "output_type": "stream",
     "text": [
      "[[257  36]\n",
      " [ 26  81]]\n"
     ]
    }
   ],
   "source": [
    "y_hat_trainLemma = modelLemma.predict(trainVectorLemma)\n",
    "\n",
    "y_hat_testLemma = modelLemma.predict(testVectorLemma)\n",
    "cm3 = confusion_matrix(y_test,y_hat_testLemma)\n",
    "print cm3"
   ]
  },
  {
   "cell_type": "code",
   "execution_count": 14,
   "metadata": {
    "collapsed": false
   },
   "outputs": [
    {
     "data": {
      "text/plain": [
       "<matplotlib.figure.Figure at 0x1317014d0>"
      ]
     },
     "metadata": {},
     "output_type": "display_data"
    },
    {
     "data": {
      "image/png": "[encoded data removed]",
      "text/plain": [
       "<matplotlib.figure.Figure at 0x131701410>"
      ]
     },
     "metadata": {},
     "output_type": "display_data"
    }
   ],
   "source": [
    "plt.clf()\n",
    "plt.matshow(cm3)\n",
    "plt.title('Confusion matrix Lemma')\n",
    "plt.colorbar()\n",
    "plt.ylabel('True label')\n",
    "plt.xlabel('Predicted label')\n",
    "plt.show()"
   ]
  },
  {
   "cell_type": "markdown",
   "metadata": {},
   "source": [
    "Somewhat counterintuitively, the lemmatization model did not perform noticably better or worse from the simpler stemming model despite being much more computationally expensive."
   ]
  },
  {
   "cell_type": "markdown",
   "metadata": {},
   "source": [
    "### B3 Stopwords"
   ]
  },
  {
   "cell_type": "code",
   "execution_count": 15,
   "metadata": {
    "collapsed": false
   },
   "outputs": [],
   "source": [
    "stopwordVector = CountVectorizer(stop_words='english',\n",
    "                                tokenizer=LemmaTokenizer())"
   ]
  },
  {
   "cell_type": "code",
   "execution_count": 16,
   "metadata": {
    "collapsed": false
   },
   "outputs": [],
   "source": [
    "trainStopwordsVector = stopwordVector.fit_transform(X_train)\n",
    "testStopwordsVector = stopwordVector.transform(X_test)"
   ]
  },
  {
   "cell_type": "code",
   "execution_count": 17,
   "metadata": {
    "collapsed": false
   },
   "outputs": [],
   "source": [
    "classifierStopwords = MultinomialNB()\n",
    "modelStopwords = classifierStopwords.fit(trainStopwordsVector, y_train)"
   ]
  },
  {
   "cell_type": "code",
   "execution_count": 18,
   "metadata": {
    "collapsed": false
   },
   "outputs": [
    {
     "name": "stdout",
     "output_type": "stream",
     "text": [
      "[[255  38]\n",
      " [ 25  82]]\n"
     ]
    }
   ],
   "source": [
    "y_hat_trainStopwords = modelStopwords.predict(testStopwordsVector)\n",
    "cm4 = confusion_matrix(y_test, y_hat_trainStopwords)\n",
    "print cm4"
   ]
  },
  {
   "cell_type": "code",
   "execution_count": 19,
   "metadata": {
    "collapsed": false
   },
   "outputs": [
    {
     "data": {
      "text/plain": [
       "<matplotlib.figure.Figure at 0x112f60fd0>"
      ]
     },
     "metadata": {},
     "output_type": "display_data"
    },
    {
     "data": {
      "image/png": "[encoded data removed]",
      "text/plain": [
       "<matplotlib.figure.Figure at 0x112f60f90>"
      ]
     },
     "metadata": {},
     "output_type": "display_data"
    }
   ],
   "source": [
    "plt.clf()\n",
    "plt.matshow(cm4)\n",
    "plt.title('Confusion matrix Stopwords')\n",
    "plt.colorbar()\n",
    "plt.ylabel('True label')\n",
    "plt.xlabel('Predicted label')\n",
    "plt.show()"
   ]
  },
  {
   "cell_type": "code",
   "execution_count": 20,
   "metadata": {
    "collapsed": false
   },
   "outputs": [],
   "source": [
    "modelCoefficients = modelStopwords.coef_[0]\n",
    "modelFeatures = stopwordVector.get_feature_names()"
   ]
  },
  {
   "cell_type": "code",
   "execution_count": 21,
   "metadata": {
    "collapsed": false,
    "scrolled": true
   },
   "outputs": [],
   "source": [
    "feature_Coeffs = []\n",
    "if len(modelCoefficients)==len(modelFeatures):\n",
    "    for i in range(len(modelCoefficients)):\n",
    "        feature_Coeffs.append((modelFeatures[i], modelCoefficients[i]))"
   ]
  },
  {
   "cell_type": "code",
   "execution_count": 22,
   "metadata": {
    "collapsed": false
   },
   "outputs": [],
   "source": [
    "from operator import itemgetter\n",
    "feature_Coeffs = sorted(feature_Coeffs,key=itemgetter(1))"
   ]
  },
  {
   "cell_type": "markdown",
   "metadata": {},
   "source": [
    "Top 10 High Salary Features:"
   ]
  },
  {
   "cell_type": "code",
   "execution_count": 23,
   "metadata": {
    "collapsed": false
   },
   "outputs": [
    {
     "data": {
      "text/plain": [
       "[(u'management', -5.0731300615245907),\n",
       " (u':', -4.8963795497800913),\n",
       " (u'experience', -4.7656453617766301),\n",
       " (u'nursing', -4.6765935841607273),\n",
       " (u'****', -4.4927783751099897),\n",
       " (u'care', -4.4489757524515969),\n",
       " (u'manager', -4.1357303664402005),\n",
       " (u'home', -4.0176572655170988),\n",
       " (u',', -3.2758304119209205),\n",
       " (u'.', -3.0843428881128849)]"
      ]
     },
     "execution_count": 23,
     "metadata": {},
     "output_type": "execute_result"
    }
   ],
   "source": [
    "feature_Coeffs[-10:]"
   ]
  },
  {
   "cell_type": "markdown",
   "metadata": {},
   "source": [
    "Top 10 Low Salary Features"
   ]
  },
  {
   "cell_type": "code",
   "execution_count": 24,
   "metadata": {
    "collapsed": false
   },
   "outputs": [
    {
     "data": {
      "text/plain": [
       "[(u\"'children\", -10.083765355620846),\n",
       " (u\"'d\", -10.083765355620846),\n",
       " (u\"'investors\", -10.083765355620846),\n",
       " (u\"'rgn\", -10.083765355620846),\n",
       " (u\"'take\", -10.083765355620846),\n",
       " (u\"'ve\", -10.083765355620846),\n",
       " (u\"'work\", -10.083765355620846),\n",
       " (u'********', -10.083765355620846),\n",
       " (u'********phr', -10.083765355620846),\n",
       " (u'****.5', -10.083765355620846)]"
      ]
     },
     "execution_count": 24,
     "metadata": {},
     "output_type": "execute_result"
    }
   ],
   "source": [
    "feature_Coeffs[:10]"
   ]
  },
  {
   "cell_type": "markdown",
   "metadata": {},
   "source": [
    "### B4 Part-of-Speech Bi-grams"
   ]
  },
  {
   "cell_type": "code",
   "execution_count": 25,
   "metadata": {
    "collapsed": true
   },
   "outputs": [],
   "source": [
    "def pos_BiGramizer(doc):\n",
    "    tokens = nltk.word_tokenize(doc.lower())\n",
    "    tagged = nltk.pos_tag(tokens)\n",
    "    ord_pos = [y for x, y in tagged]\n",
    "    pos_BiGrams = []\n",
    "    for i in range(len(ord_pos)-1):\n",
    "        pos_BiGrams.append(ord_pos[i] + '_' + ord_pos[i+1])\n",
    "    return list(pos_BiGrams)"
   ]
  },
  {
   "cell_type": "code",
   "execution_count": 26,
   "metadata": {
    "collapsed": false
   },
   "outputs": [],
   "source": [
    "def pos_BG_count_tokenizer(doc):\n",
    "    return nltk.word_tokenize(doc) + pos_BiGramizer(doc)"
   ]
  },
  {
   "cell_type": "code",
   "execution_count": 27,
   "metadata": {
    "collapsed": false
   },
   "outputs": [],
   "source": [
    "class POS_BG_Tokenizer(object):\n",
    "    def __call__(self, doc):\n",
    "        return pos_BG_count_tokenizer(doc)"
   ]
  },
  {
   "cell_type": "code",
   "execution_count": 28,
   "metadata": {
    "collapsed": false
   },
   "outputs": [],
   "source": [
    "posBGVector = CountVectorizer(stop_words='english',\n",
    "                                tokenizer=POS_BG_Tokenizer())"
   ]
  },
  {
   "cell_type": "code",
   "execution_count": 29,
   "metadata": {
    "collapsed": true
   },
   "outputs": [],
   "source": [
    "trainBGVector = posBGVector.fit_transform(X_train)\n",
    "testBGVector = posBGVector.transform(X_test)"
   ]
  },
  {
   "cell_type": "code",
   "execution_count": 30,
   "metadata": {
    "collapsed": true
   },
   "outputs": [],
   "source": [
    "classifierBG = MultinomialNB()\n",
    "modelBG = classifierBG.fit(trainBGVector, y_train)"
   ]
  },
  {
   "cell_type": "code",
   "execution_count": 31,
   "metadata": {
    "collapsed": false
   },
   "outputs": [
    {
     "name": "stdout",
     "output_type": "stream",
     "text": [
      "[[259  34]\n",
      " [ 23  84]]\n"
     ]
    }
   ],
   "source": [
    "y_hat_trainBG = modelBG.predict(testBGVector)\n",
    "cm5 = confusion_matrix(y_test, y_hat_trainBG)\n",
    "print cm5"
   ]
  },
  {
   "cell_type": "code",
   "execution_count": 32,
   "metadata": {
    "collapsed": false
   },
   "outputs": [
    {
     "data": {
      "text/plain": [
       "<matplotlib.figure.Figure at 0x112f6b710>"
      ]
     },
     "metadata": {},
     "output_type": "display_data"
    },
    {
     "data": {
      "image/png": "[encoded data removed]",
      "text/plain": [
       "<matplotlib.figure.Figure at 0x1170dce50>"
      ]
     },
     "metadata": {},
     "output_type": "display_data"
    }
   ],
   "source": [
    "plt.clf()\n",
    "plt.matshow(cm5)\n",
    "plt.title('Confusion matrix POS-Bigrams')\n",
    "plt.colorbar()\n",
    "plt.ylabel('True label')\n",
    "plt.xlabel('Predicted label')\n",
    "plt.show()"
   ]
  }
 ],
 "metadata": {
  "kernelspec": {
   "display_name": "Python 2",
   "language": "python",
   "name": "python2"
  },
  "language_info": {
   "codemirror_mode": {
    "name": "ipython",
    "version": 2
   },
   "file_extension": ".py",
   "mimetype": "text/x-python",
   "name": "python",
   "nbconvert_exporter": "python",
   "pygments_lexer": "ipython2",
   "version": "2.7.10"
  }
 },
 "nbformat": 4,
 "nbformat_minor": 0
}
