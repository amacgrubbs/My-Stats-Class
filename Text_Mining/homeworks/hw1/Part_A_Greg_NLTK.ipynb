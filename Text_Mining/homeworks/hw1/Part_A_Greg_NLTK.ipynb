{
 "cells": [
  {
   "cell_type": "markdown",
   "metadata": {},
   "source": [
    "#Part A  \n",
    "Honestly, needs some clean up work, and a second set of eyes. We could do t all in SciKit learn as well mostlikely, probably would have been a lot easier to do as well, but all in all a good learning exercise. Look to optimize tomorrow."
   ]
  },
  {
   "cell_type": "code",
   "execution_count": 1,
   "metadata": {
    "collapsed": false
   },
   "outputs": [
    {
     "name": "stdout",
     "output_type": "stream",
     "text": [
      "Populating the interactive namespace from numpy and matplotlib\n"
     ]
    }
   ],
   "source": [
    "# base imports\n",
    "import nltk\n",
    "import pandas as pd\n",
    "%pylab inline"
   ]
  },
  {
   "cell_type": "code",
   "execution_count": 2,
   "metadata": {
    "collapsed": true
   },
   "outputs": [],
   "source": [
    "salaryData = pd.read_csv('data/Train_rev1.csv')[['FullDescription', 'SalaryNormalized']][:250]"
   ]
  },
  {
   "cell_type": "code",
   "execution_count": 3,
   "metadata": {
    "collapsed": false
   },
   "outputs": [],
   "source": [
    "from nltk.tokenize import word_tokenize\n",
    "salaryData['Raw'] = salaryData['FullDescription'].str.decode('utf8')"
   ]
  },
  {
   "cell_type": "code",
   "execution_count": 4,
   "metadata": {
    "collapsed": false
   },
   "outputs": [
    {
     "data": {
      "text/plain": [
       "250"
      ]
     },
     "execution_count": 4,
     "metadata": {},
     "output_type": "execute_result"
    }
   ],
   "source": [
    "len(salaryData['Raw'])"
   ]
  },
  {
   "cell_type": "code",
   "execution_count": 5,
   "metadata": {
    "collapsed": false
   },
   "outputs": [],
   "source": [
    "raw = ''.join(salaryData['Raw'])\n",
    "raw = raw.lower()\n",
    "tokens = word_tokenize(raw)\n"
   ]
  },
  {
   "cell_type": "code",
   "execution_count": 6,
   "metadata": {
    "collapsed": false
   },
   "outputs": [
    {
     "data": {
      "text/plain": [
       "59194"
      ]
     },
     "execution_count": 6,
     "metadata": {},
     "output_type": "execute_result"
    }
   ],
   "source": [
    "raw2 = raw.split()\n",
    "len(raw2)"
   ]
  },
  {
   "cell_type": "code",
   "execution_count": 7,
   "metadata": {
    "collapsed": false,
    "scrolled": true
   },
   "outputs": [
    {
     "data": {
      "text/plain": [
       "52751"
      ]
     },
     "execution_count": 7,
     "metadata": {},
     "output_type": "execute_result"
    }
   ],
   "source": [
    "raw3 = [w.lower() for w in raw2 if w.isalpha()]\n",
    "len(raw3)"
   ]
  },
  {
   "cell_type": "code",
   "execution_count": 8,
   "metadata": {
    "collapsed": false
   },
   "outputs": [],
   "source": [
    "tokens = [w.lower() for w in tokens if w.isalpha()]"
   ]
  },
  {
   "cell_type": "code",
   "execution_count": 9,
   "metadata": {
    "collapsed": false
   },
   "outputs": [],
   "source": [
    "pos = nltk.pos_tag(raw3)\n",
    "pos2 = []\n",
    "for row in pos:\n",
    "    pos2.append(row[1])\n"
   ]
  },
  {
   "cell_type": "code",
   "execution_count": 10,
   "metadata": {
    "collapsed": false
   },
   "outputs": [
    {
     "data": {
      "text/plain": [
       "FreqDist({'NN': 13757, 'IN': 6805, 'DT': 5001, 'JJ': 4626, 'NNS': 3513, 'CC': 2838, 'VB': 2719, 'TO': 1921, 'VBG': 1802, 'RB': 1643, ...})"
      ]
     },
     "execution_count": 10,
     "metadata": {},
     "output_type": "execute_result"
    }
   ],
   "source": [
    "fd = nltk.FreqDist(raw3)\n",
    "fdPos = nltk.FreqDist(pos)\n",
    "\n",
    "fdPos2 = nltk.FreqDist(pos2)\n",
    "fdPos2"
   ]
  },
  {
   "cell_type": "markdown",
   "metadata": {},
   "source": [
    "Top Parts of are: \n",
    "  \n",
    "1. noun (singular or mass)  \n",
    "2. preposition/subordinating conjunction \n",
    "3. determiner\n",
    "4. adjective \n",
    "5. plural noun"
   ]
  },
  {
   "cell_type": "code",
   "execution_count": 12,
   "metadata": {
    "collapsed": false
   },
   "outputs": [
    {
     "data": {
      "text/plain": [
       "[<matplotlib.lines.Line2D at 0x1163c1150>]"
      ]
     },
     "execution_count": 12,
     "metadata": {},
     "output_type": "execute_result"
    },
    {
     "data": {
      "image/png": "[encoded data removed]",
      "text/plain": [
       "<matplotlib.figure.Figure at 0x11609e090>"
      ]
     },
     "metadata": {},
     "output_type": "display_data"
    }
   ],
   "source": [
    "top100 = sorted(fd.items(),key=lambda x: x[1],reverse = True)[:100]\n",
    "top100\n",
    "rank_freq = [x[1] for x in top100]\n",
    "x = xrange(1,101)\n",
    "#plot(rank_freq,x)\n",
    "plot(log(rank_freq),log(x))"
   ]
  },
  {
   "cell_type": "markdown",
   "metadata": {},
   "source": [
    "It appears to follow Zipf's law incrediby well untill towards the end. The word count difference is getting very close together- and often times tying. As a result, Zipf's law breaks down because it assumes a constant decline."
   ]
  },
  {
   "cell_type": "code",
   "execution_count": 41,
   "metadata": {
    "collapsed": false
   },
   "outputs": [
    {
     "data": {
      "text/plain": [
       "[(u'work', 324),\n",
       " (u'experience', 318),\n",
       " (u'job', 318),\n",
       " (u'working', 268),\n",
       " (u'within', 266),\n",
       " (u'chef', 261),\n",
       " (u'client', 255),\n",
       " (u'manager', 202),\n",
       " (u'candidate', 189),\n",
       " (u'team', 183)]"
      ]
     },
     "execution_count": 41,
     "metadata": {},
     "output_type": "execute_result"
    }
   ],
   "source": [
    "from nltk.corpus import stopwords\n",
    "from nltk.stem import WordNetLemmatizer\n",
    "wordnet_lemmatizer =  WordNetLemmatizer()\n",
    "\n",
    "\n",
    "noStops = [w for w in raw3 if w not in stopwords.words(\"english\")]\n",
    "\n",
    "lemma = [wordnet_lemmatizer.lemmatize(i) for i in noStops]\n",
    "\n",
    "stopFreq = nltk.FreqDist(lemma)\n",
    "sorted(stopFreq.items(),key=lambda x: x[1],reverse = True)[:10]"
   ]
  }
 ],
 "metadata": {
  "kernelspec": {
   "display_name": "Python 2",
   "language": "python",
   "name": "python2"
  },
  "language_info": {
   "codemirror_mode": {
    "name": "ipython",
    "version": 2
   },
   "file_extension": ".py",
   "mimetype": "text/x-python",
   "name": "python",
   "nbconvert_exporter": "python",
   "pygments_lexer": "ipython2",
   "version": "2.7.10"
  }
 },
 "nbformat": 4,
 "nbformat_minor": 0
}
