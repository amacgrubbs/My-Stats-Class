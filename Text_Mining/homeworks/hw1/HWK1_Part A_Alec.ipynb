{
 "cells": [
  {
   "cell_type": "markdown",
   "metadata": {},
   "source": [
    "##Part A (basic text mining)"
   ]
  },
  {
   "cell_type": "markdown",
   "metadata": {},
   "source": [
    "###A1. What are the top 5 parts of speech in this corpus of job descriptions? How frequently do they appear?"
   ]
  },
  {
   "cell_type": "code",
   "execution_count": 2,
   "metadata": {
    "collapsed": false
   },
   "outputs": [
    {
     "name": "stdout",
     "output_type": "stream",
     "text": [
      "Populating the interactive namespace from numpy and matplotlib\n"
     ]
    }
   ],
   "source": [
    "import pandas as pd\n",
    "%pylab inline\n",
    "import nltk\n",
    "from collections import Counter, defaultdict\n",
    "from nltk.corpus import stopwords\n",
    "from nltk.stem import WordNetLemmatizer\n",
    "from nltk.tokenize import WhitespaceTokenizer\n",
    "import matplotlib.pyplot as plt\n",
    "import pylab"
   ]
  },
  {
   "cell_type": "code",
   "execution_count": 52,
   "metadata": {
    "collapsed": false
   },
   "outputs": [],
   "source": [
    "salaryData = pd.read_csv('Train_rev1.csv')['FullDescription'][:250]\n",
    "salaryData['Raw'] = salaryData.str.decode('utf8')\n",
    "\n",
    "def tokenize(s):\n",
    "    return WhitespaceTokenizer().tokenize(s)\n",
    "\n",
    "salary_tokens = salaryData['Raw'].map(tokenize)\n",
    "\n",
    "def pos(s):\n",
    "    return nltk.pos_tag(s)\n",
    "\n",
    "salary_pos = salary_tokens.map(pos)\n",
    "\n",
    "salary_pos_list = []\n",
    "\n",
    "for list in salary_pos:\n",
    "    for number in list:\n",
    "        salary_pos_list.append(number)\n",
    "\n",
    "pos_count = Counter((tag for (word,tag) in salary_pos_list))\n",
    "\n",
    "mc_pos = pos_count.most_common(5)\n",
    "\n",
    "mc_pos_freq = [(word,round((float(tag)/sum(pos_count.values()).astype(float))*100,2)) for (word,tag) in mc_pos]"
   ]
  },
  {
   "cell_type": "markdown",
   "metadata": {},
   "source": [
    "####The top 5 parts of speech from this corpus of job descriptions are:"
   ]
  },
  {
   "cell_type": "code",
   "execution_count": 53,
   "metadata": {
    "collapsed": false
   },
   "outputs": [
    {
     "data": {
      "text/plain": [
       "[('NNP', 12216), ('NN', 9947), ('IN', 6436), ('DT', 4637), ('JJ', 4371)]"
      ]
     },
     "execution_count": 53,
     "metadata": {},
     "output_type": "execute_result"
    }
   ],
   "source": [
    "mc_pos"
   ]
  },
  {
   "cell_type": "markdown",
   "metadata": {
    "collapsed": false
   },
   "source": [
    "####These parts of speech appear with the following frequencies:"
   ]
  },
  {
   "cell_type": "code",
   "execution_count": 54,
   "metadata": {
    "collapsed": false
   },
   "outputs": [
    {
     "data": {
      "text/plain": [
       "[('NNP', 20.55), ('NN', 16.73), ('IN', 10.83), ('DT', 7.8), ('JJ', 7.35)]"
      ]
     },
     "execution_count": 54,
     "metadata": {},
     "output_type": "execute_result"
    }
   ],
   "source": [
    "mc_pos_freq"
   ]
  },
  {
   "cell_type": "markdown",
   "metadata": {
    "collapsed": true
   },
   "source": [
    "###A2. Does this corpus support Zipf’s law? Plot the most common 100 words in the corpus against the theoretical prediction of the law."
   ]
  },
  {
   "cell_type": "code",
   "execution_count": 76,
   "metadata": {
    "collapsed": false
   },
   "outputs": [],
   "source": [
    "salary_token_list = []\n",
    "\n",
    "for list in salary_tokens:\n",
    "    for number in list:\n",
    "        salary_token_list.append(number)\n",
    "\n",
    "sal_replacer = ['****']        \n",
    "        \n",
    "salary_lower = [w.lower() for w in salary_token_list if w not in sal_replacer]\n",
    "        \n",
    "word_count = Counter((word for word in salary_lower))\n",
    "\n",
    "most_common_words = word_count.most_common(100)\n",
    "\n",
    "rank_freq = [x[1] for x in most_common_words]\n",
    "rank = xrange(1,101)\n",
    "log_rank = [log(x) for x in xrange(1,101)]\n",
    "    \n",
    "inverse_rank = [1/float(i) for i in rank]"
   ]
  },
  {
   "cell_type": "markdown",
   "metadata": {},
   "source": [
    "####As seen in the plot below, if we plot the frequency of top 100 most common words versus their rank on a loglog plot, we see a curve that is similar to Zipf's law for the majority of the common words. We see the curve tail off as the rank of the word decreases as many of these words have similar frequencies in our corpus at this low ranking. This differs from Zipf's law which assumes the frequencies will continue to decrease as the rank decreases."
   ]
  },
  {
   "cell_type": "code",
   "execution_count": 77,
   "metadata": {
    "collapsed": false
   },
   "outputs": [
    {
     "data": {
      "text/plain": [
       "<matplotlib.legend.Legend at 0x38676668>"
      ]
     },
     "execution_count": 77,
     "metadata": {},
     "output_type": "execute_result"
    },
    {
     "data": {
      "image/png": "[encoded data removed]",
      "text/plain": [
       "<matplotlib.figure.Figure at 0x210522e8>"
      ]
     },
     "metadata": {},
     "output_type": "display_data"
    }
   ],
   "source": [
    "plt.plot(log(rank_freq),log_rank)\n",
    "plt.plot(log(inverse_rank)+ 8.8,log_rank)\n",
    "plt.suptitle('Frequency of Top 100 Words Compared to Zipf\\'s Law')\n",
    "plt.xlabel('log(Rank of word)')\n",
    "plt.ylabel(\"log(Frequency of the word)\")\n",
    "plt.legend((\"Top 100 Words\",\"1/freq: ideal case\"),\"upper right\")"
   ]
  },
  {
   "cell_type": "markdown",
   "metadata": {},
   "source": [
    "###A3. If we remove stopwords and lemmatize the corpus, what are the 10 most common words? What is their frequency?"
   ]
  },
  {
   "cell_type": "code",
   "execution_count": 78,
   "metadata": {
    "collapsed": true
   },
   "outputs": [],
   "source": [
    "wordnet_lemmatizer =  WordNetLemmatizer()\n",
    "\n",
    "no_stops = [w for w in salary_lower if w not in stopwords.words(\"english\")]\n",
    "\n",
    "lemma = [wordnet_lemmatizer.lemmatize(i) for i in no_stops]\n",
    "\n",
    "lemma_word_count = Counter((word for word in lemma))\n",
    "\n",
    "mc_lemma_words = lemma_word_count.most_common(10)\n",
    "\n",
    "mc_lemma_words_freq = [(word,round((float(tag)/sum(lemma_word_count.values()).astype(float))*100,2)) for (word,tag) in mc_lemma_words]"
   ]
  },
  {
   "cell_type": "markdown",
   "metadata": {},
   "source": [
    "####The top 10 most common words from the corpus are:"
   ]
  },
  {
   "cell_type": "code",
   "execution_count": 79,
   "metadata": {
    "collapsed": false
   },
   "outputs": [
    {
     "data": {
      "text/plain": [
       "[(u'work', 324),\n",
       " (u'job', 324),\n",
       " (u'experience', 321),\n",
       " (u'chef', 277),\n",
       " (u'working', 269),\n",
       " (u'within', 266),\n",
       " (u'client', 255),\n",
       " (u'manager', 203),\n",
       " (u'candidate', 190),\n",
       " (u'team', 183)]"
      ]
     },
     "execution_count": 79,
     "metadata": {},
     "output_type": "execute_result"
    }
   ],
   "source": [
    "mc_lemma_words"
   ]
  },
  {
   "cell_type": "markdown",
   "metadata": {},
   "source": [
    "####These words appear with the following frequencies:"
   ]
  },
  {
   "cell_type": "code",
   "execution_count": 80,
   "metadata": {
    "collapsed": false
   },
   "outputs": [
    {
     "data": {
      "text/plain": [
       "[(u'work', 0.9),\n",
       " (u'job', 0.9),\n",
       " (u'experience', 0.89),\n",
       " (u'chef', 0.77),\n",
       " (u'working', 0.75),\n",
       " (u'within', 0.74),\n",
       " (u'client', 0.71),\n",
       " (u'manager', 0.56),\n",
       " (u'candidate', 0.53),\n",
       " (u'team', 0.51)]"
      ]
     },
     "execution_count": 80,
     "metadata": {},
     "output_type": "execute_result"
    }
   ],
   "source": [
    "mc_lemma_words_freq"
   ]
  },
  {
   "cell_type": "code",
   "execution_count": null,
   "metadata": {
    "collapsed": false
   },
   "outputs": [],
   "source": []
  },
  {
   "cell_type": "code",
   "execution_count": null,
   "metadata": {
    "collapsed": false
   },
   "outputs": [],
   "source": []
  },
  {
   "cell_type": "code",
   "execution_count": null,
   "metadata": {
    "collapsed": true
   },
   "outputs": [],
   "source": []
  }
 ],
 "metadata": {
  "kernelspec": {
   "display_name": "Python 2",
   "language": "python",
   "name": "python2"
  },
  "language_info": {
   "codemirror_mode": {
    "name": "ipython",
    "version": 2
   },
   "file_extension": ".py",
   "mimetype": "text/x-python",
   "name": "python",
   "nbconvert_exporter": "python",
   "pygments_lexer": "ipython2",
   "version": "2.7.10"
  }
 },
 "nbformat": 4,
 "nbformat_minor": 0
}
