{
 "cells": [
  {
   "cell_type": "markdown",
   "metadata": {},
   "source": [
    "#Homework 1\n",
    "Group: Zach Aldrich, Alec Grubs, James Krach, Brian Lakey, Greg Merchant, and Francisco Sananez"
   ]
  },
  {
   "cell_type": "markdown",
   "metadata": {},
   "source": [
    "## Part A (basic text mining)"
   ]
  },
  {
   "cell_type": "markdown",
   "metadata": {},
   "source": [
    "### A1. What are the top 5 parts of speech in this corpus of job descriptions? How frequently do they appear?"
   ]
  },
  {
   "cell_type": "code",
   "execution_count": 1,
   "metadata": {
    "collapsed": false
   },
   "outputs": [
    {
     "name": "stdout",
     "output_type": "stream",
     "text": [
      "Populating the interactive namespace from numpy and matplotlib\n"
     ]
    }
   ],
   "source": [
    "import pandas as pd\n",
    "%pylab inline\n",
    "import nltk\n",
    "from collections import Counter, defaultdict\n",
    "from nltk.corpus import stopwords\n",
    "from nltk.stem import WordNetLemmatizer\n",
    "from nltk.tokenize import WhitespaceTokenizer"
   ]
  },
  {
   "cell_type": "code",
   "execution_count": 2,
   "metadata": {
    "collapsed": false
   },
   "outputs": [],
   "source": [
    "salaryData = pd.read_csv('data/Train_rev1.csv')[['FullDescription', 'SalaryNormalized']][:20000]\n",
    "salaryData['Raw'] = salaryData['FullDescription'].str.decode('utf8')"
   ]
  },
  {
   "cell_type": "code",
   "execution_count": 3,
   "metadata": {
    "collapsed": false
   },
   "outputs": [],
   "source": [
    "salary_tokens = salaryData['Raw'].map(WhitespaceTokenizer().tokenize)\n",
    "salary_pos = salary_tokens.map(nltk.pos_tag)"
   ]
  },
  {
   "cell_type": "code",
   "execution_count": 4,
   "metadata": {
    "collapsed": true
   },
   "outputs": [],
   "source": [
    "salary_pos_list = []\n",
    "\n",
    "for l in salary_pos:\n",
    "    for number in l:\n",
    "        salary_pos_list.append(number)\n",
    "\n",
    "pos_count = Counter((tag for (word,tag) in salary_pos_list))\n",
    "\n",
    "mc_pos = pos_count.most_common(5)\n",
    "\n",
    "mc_pos_freq = [(word,round((float(tag)/sum(pos_count.values()).astype(float))*100,2)) for (word,tag) in mc_pos]"
   ]
  },
  {
   "cell_type": "markdown",
   "metadata": {},
   "source": [
    "#### The top 5 parts of speech from this corpus of job descriptions are:"
   ]
  },
  {
   "cell_type": "code",
   "execution_count": 5,
   "metadata": {
    "collapsed": false
   },
   "outputs": [
    {
     "data": {
      "text/plain": [
       "[('NNP', 918775),\n",
       " ('NN', 839969),\n",
       " ('IN', 472430),\n",
       " ('DT', 340607),\n",
       " ('JJ', 334252)]"
      ]
     },
     "execution_count": 5,
     "metadata": {},
     "output_type": "execute_result"
    }
   ],
   "source": [
    "mc_pos"
   ]
  },
  {
   "cell_type": "markdown",
   "metadata": {},
   "source": [
    "#### These parts of speech appear with the following frequencies:"
   ]
  },
  {
   "cell_type": "code",
   "execution_count": 6,
   "metadata": {
    "collapsed": false
   },
   "outputs": [
    {
     "data": {
      "text/plain": [
       "[('NNP', 20.07), ('NN', 18.35), ('IN', 10.32), ('DT', 7.44), ('JJ', 7.3)]"
      ]
     },
     "execution_count": 6,
     "metadata": {},
     "output_type": "execute_result"
    }
   ],
   "source": [
    "mc_pos_freq"
   ]
  },
  {
   "cell_type": "markdown",
   "metadata": {},
   "source": [
    "### A2. Does this corpus support Zipf’s law? Plot the most common 100 words in the corpus against the theoretical prediction of the law."
   ]
  },
  {
   "cell_type": "code",
   "execution_count": 7,
   "metadata": {
    "collapsed": true
   },
   "outputs": [],
   "source": [
    "salary_token_list = []\n",
    "\n",
    "for i in salary_tokens:\n",
    "    for number in i:\n",
    "        salary_token_list.append(number)\n",
    "\n",
    "sal_replacer = ['****']        \n",
    "        \n",
    "salary_lower = [w.lower() for w in salary_token_list if w not in sal_replacer]\n",
    "        \n",
    "word_count = Counter((word for word in salary_lower))\n",
    "\n",
    "most_common_words = word_count.most_common(100)\n",
    "\n",
    "rank_freq = [x[1] for x in most_common_words]\n",
    "rank = xrange(1,101)\n",
    "log_rank = [log(x) for x in xrange(1,101)]\n",
    "    \n",
    "inverse_rank = [1/float(i) for i in rank]"
   ]
  },
  {
   "cell_type": "markdown",
   "metadata": {},
   "source": [
    "#### As seen in the plot below, if we plot the frequency of top 100 most common words versus their rank on a loglog plot, we see a curve that is similar to Zipf's law for the majority of the common words. We see the curve tail off as the rank of the word decreases as many of these words have similar frequencies in our corpus at this low ranking. This differs from Zipf's law which assumes the frequencies will continue to decrease as the rank decreases."
   ]
  },
  {
   "cell_type": "code",
   "execution_count": 12,
   "metadata": {
    "collapsed": false
   },
   "outputs": [
    {
     "data": {
      "text/plain": [
       "<matplotlib.legend.Legend at 0x16828ced0>"
      ]
     },
     "execution_count": 12,
     "metadata": {},
     "output_type": "execute_result"
    },
    {
     "data": {
      "image/png": "[encoded data removed]",
      "text/plain": [
       "<matplotlib.figure.Figure at 0x168114790>"
      ]
     },
     "metadata": {},
     "output_type": "display_data"
    }
   ],
   "source": [
    "plt.plot(log(rank_freq),log_rank)\n",
    "plt.plot(log(inverse_rank)+ 13,log_rank)\n",
    "plt.suptitle('Frequency of Top 100 Words Compared to Zipf\\'s Law')\n",
    "plt.xlabel('log(Rank of word)')\n",
    "plt.ylabel(\"log(Frequency of the word)\")\n",
    "plt.legend((\"Top 100 Words\",\"1/freq: ideal case\"),\"upper right\")"
   ]
  },
  {
   "cell_type": "markdown",
   "metadata": {},
   "source": [
    "### A3. If we remove stopwords and lemmatize the corpus, what are the 10 most common words? What is their frequency?"
   ]
  },
  {
   "cell_type": "code",
   "execution_count": 13,
   "metadata": {
    "collapsed": true
   },
   "outputs": [],
   "source": [
    "wordnet_lemmatizer =  WordNetLemmatizer()\n",
    "\n",
    "no_stops = [w for w in salary_lower if w not in stopwords.words(\"english\")]\n",
    "\n",
    "lemma = [wordnet_lemmatizer.lemmatize(i) for i in no_stops]\n",
    "\n",
    "lemma_word_count = Counter((word for word in lemma))\n",
    "\n",
    "mc_lemma_words = lemma_word_count.most_common(10)\n",
    "\n",
    "mc_lemma_words_freq = [(word,round((float(tag)/sum(lemma_word_count.values()).astype(float))*100,2)) for (word,tag) in mc_lemma_words]"
   ]
  },
  {
   "cell_type": "markdown",
   "metadata": {},
   "source": [
    "#### The top 10 most common words from the corpus are:"
   ]
  },
  {
   "cell_type": "code",
   "execution_count": 14,
   "metadata": {
    "collapsed": false
   },
   "outputs": [
    {
     "data": {
      "text/plain": [
       "[(u'experience', 28530),\n",
       " (u'work', 21981),\n",
       " (u'working', 18111),\n",
       " (u'role', 18040),\n",
       " (u'client', 17141),\n",
       " (u'within', 16858),\n",
       " (u'team', 16438),\n",
       " (u'service', 14952),\n",
       " (u'business', 14852),\n",
       " (u'please', 14554)]"
      ]
     },
     "execution_count": 14,
     "metadata": {},
     "output_type": "execute_result"
    }
   ],
   "source": [
    "mc_lemma_words"
   ]
  },
  {
   "cell_type": "markdown",
   "metadata": {},
   "source": [
    "#### These words appear with the following frequencies:"
   ]
  },
  {
   "cell_type": "code",
   "execution_count": 15,
   "metadata": {
    "collapsed": false
   },
   "outputs": [
    {
     "data": {
      "text/plain": [
       "[(u'experience', 1.0),\n",
       " (u'work', 0.77),\n",
       " (u'working', 0.63),\n",
       " (u'role', 0.63),\n",
       " (u'client', 0.6),\n",
       " (u'within', 0.59),\n",
       " (u'team', 0.57),\n",
       " (u'service', 0.52),\n",
       " (u'business', 0.52),\n",
       " (u'please', 0.51)]"
      ]
     },
     "execution_count": 15,
     "metadata": {},
     "output_type": "execute_result"
    }
   ],
   "source": [
    "mc_lemma_words_freq"
   ]
  },
  {
   "cell_type": "markdown",
   "metadata": {},
   "source": [
    "# Part B (predict salary from job description)"
   ]
  },
  {
   "cell_type": "markdown",
   "metadata": {},
   "source": [
    "### B1. Create a classification model with all words and the bag-of-words approach. How accurate is the model (show the confusion matrix)? "
   ]
  },
  {
   "cell_type": "code",
   "execution_count": 16,
   "metadata": {
    "collapsed": false
   },
   "outputs": [],
   "source": [
    "top_quartile = salaryData['SalaryNormalized'].describe()['75%']\n",
    "salaryData['high'] = (salaryData['SalaryNormalized'] > top_quartile).astype(int)\n",
    "salaryData.drop('SalaryNormalized', axis=1, inplace=True)"
   ]
  },
  {
   "cell_type": "code",
   "execution_count": 93,
   "metadata": {
    "collapsed": true
   },
   "outputs": [],
   "source": [
    "# data splits\n",
    "#change X_train_ and y_train_ back if even split isn't needed\n",
    "from sklearn.cross_validation import train_test_split\n",
    "\n",
    "X_train_, X_test, y_train_, y_test = train_test_split(salaryData['FullDescription'],\n",
    "                                                    salaryData['high'],\n",
    "                                                    test_size=0.4, random_state=1)"
   ]
  },
  {
   "cell_type": "code",
   "execution_count": 94,
   "metadata": {
    "collapsed": false
   },
   "outputs": [],
   "source": [
    "import random as rnd\n",
    "y_train_high = [x for x in y_train_ if x == 1]\n",
    "y_train_high_pos = [x for x in xrange(0,len(y_train_)) if y_train_[x] == 1]\n",
    "X_train_high = [X_train_[x] for x in y_train_pos]\n",
    "all_pos = list(xrange(0,len(y_train_)))\n",
    "low_pos = list(set(all_pos) - set(y_train_high_pos))\n",
    "low_train_pos = rnd.sample(low_pos, len(y_train_high))\n",
    "all_train_pos = sorted(y_train_high_pos + low_train_pos)\n",
    "X_train = [X_train_[x] for x in all_train_pos]\n",
    "y_train = [y_train_[x] for x in all_train_pos]"
   ]
  },
  {
   "cell_type": "code",
   "execution_count": 96,
   "metadata": {
    "collapsed": true
   },
   "outputs": [],
   "source": [
    "from sklearn.feature_extraction.text import CountVectorizer\n",
    "trainVectorizer = CountVectorizer(min_df=1)"
   ]
  },
  {
   "cell_type": "code",
   "execution_count": 97,
   "metadata": {
    "collapsed": true
   },
   "outputs": [],
   "source": [
    "trainVectorCount = trainVectorizer.fit_transform(X_train)\n",
    "testVectorCount = trainVectorizer.transform(X_test)"
   ]
  },
  {
   "cell_type": "code",
   "execution_count": 98,
   "metadata": {
    "collapsed": false
   },
   "outputs": [],
   "source": [
    "from sklearn.naive_bayes import MultinomialNB\n",
    "classifier = MultinomialNB()\n",
    "model = classifier.fit(trainVectorCount, y_train)"
   ]
  },
  {
   "cell_type": "code",
   "execution_count": 99,
   "metadata": {
    "collapsed": false
   },
   "outputs": [
    {
     "name": "stdout",
     "output_type": "stream",
     "text": [
      "[[4744 1310]\n",
      " [ 405 1541]]\n"
     ]
    }
   ],
   "source": [
    "from sklearn.metrics import confusion_matrix\n",
    "y_hat_train = model.predict(trainVectorCount)\n",
    "\n",
    "cm = confusion_matrix(y_train,y_hat_train)\n",
    "y_hat_test = model.predict(testVectorCount)\n",
    "cm2 = confusion_matrix(y_test,y_hat_test)\n",
    "print cm2"
   ]
  },
  {
   "cell_type": "code",
   "execution_count": 100,
   "metadata": {
    "collapsed": false
   },
   "outputs": [
    {
     "data": {
      "image/png": "[encoded data removed]",
      "text/plain": [
       "<matplotlib.figure.Figure at 0x12fdc9950>"
      ]
     },
     "metadata": {},
     "output_type": "display_data"
    }
   ],
   "source": [
    "plt.matshow(cm2)\n",
    "plt.title('Confusion matrix Bag-of-Words')\n",
    "plt.colorbar()\n",
    "plt.ylabel('True label')\n",
    "plt.xlabel('Predicted label')\n",
    "plt.show()"
   ]
  },
  {
   "cell_type": "markdown",
   "metadata": {},
   "source": [
    "### B2 Lemmatization"
   ]
  },
  {
   "cell_type": "markdown",
   "metadata": {},
   "source": [
    "We would expect that the lemmatization model would perform better since it is not tokenizing based only on punctuation but on the root of the word. This would in theory mean that a classification model would be able to classify documents based on the root words instead of particular conjugations and thus perform better since there are fewer features (i.e. multiple conjugations/features collapse into one root)."
   ]
  },
  {
   "cell_type": "code",
   "execution_count": 101,
   "metadata": {
    "collapsed": true
   },
   "outputs": [],
   "source": [
    "from nltk import word_tokenize\n",
    "from nltk.stem import WordNetLemmatizer\n",
    "class LemmaTokenizer(object):\n",
    "    def __init__(self):\n",
    "        self.wnl = WordNetLemmatizer()\n",
    "    def __call__(self, doc):\n",
    "        return [self.wnl.lemmatize(t) for t in word_tokenize(doc)]\n",
    "\n",
    "LemmaVector = CountVectorizer(tokenizer=LemmaTokenizer())"
   ]
  },
  {
   "cell_type": "code",
   "execution_count": 102,
   "metadata": {
    "collapsed": true
   },
   "outputs": [],
   "source": [
    "trainVectorLemma = LemmaVector.fit_transform(X_train)\n",
    "testVectorLemma = LemmaVector.transform(X_test)"
   ]
  },
  {
   "cell_type": "code",
   "execution_count": 103,
   "metadata": {
    "collapsed": true
   },
   "outputs": [],
   "source": [
    "classifierLemma = MultinomialNB()\n",
    "modelLemma = classifierLemma.fit(trainVectorLemma, y_train)"
   ]
  },
  {
   "cell_type": "code",
   "execution_count": 104,
   "metadata": {
    "collapsed": false
   },
   "outputs": [
    {
     "name": "stdout",
     "output_type": "stream",
     "text": [
      "[[4732 1322]\n",
      " [ 408 1538]]\n"
     ]
    }
   ],
   "source": [
    "y_hat_trainLemma = modelLemma.predict(trainVectorLemma)\n",
    "\n",
    "y_hat_testLemma = modelLemma.predict(testVectorLemma)\n",
    "cm3 = confusion_matrix(y_test,y_hat_testLemma)\n",
    "print cm3"
   ]
  },
  {
   "cell_type": "code",
   "execution_count": 105,
   "metadata": {
    "collapsed": false
   },
   "outputs": [
    {
     "data": {
      "text/plain": [
       "<matplotlib.figure.Figure at 0x1276ed650>"
      ]
     },
     "metadata": {},
     "output_type": "display_data"
    },
    {
     "data": {
      "image/png": "[encoded data removed]",
      "text/plain": [
       "<matplotlib.figure.Figure at 0x1276ed690>"
      ]
     },
     "metadata": {},
     "output_type": "display_data"
    }
   ],
   "source": [
    "plt.clf()\n",
    "plt.matshow(cm3)\n",
    "plt.title('Confusion matrix Lemma')\n",
    "plt.colorbar()\n",
    "plt.ylabel('True label')\n",
    "plt.xlabel('Predicted label')\n",
    "plt.show()"
   ]
  },
  {
   "cell_type": "markdown",
   "metadata": {},
   "source": [
    "Somewhat counterintuitively, the lemmatization model did not perform noticably better or worse from the simpler stemming model despite being much more computationally expensive."
   ]
  },
  {
   "cell_type": "markdown",
   "metadata": {},
   "source": [
    "### B3 Stopwords"
   ]
  },
  {
   "cell_type": "code",
   "execution_count": 106,
   "metadata": {
    "collapsed": true
   },
   "outputs": [],
   "source": [
    "stopwordVector = CountVectorizer(stop_words='english',\n",
    "                                tokenizer=LemmaTokenizer())"
   ]
  },
  {
   "cell_type": "code",
   "execution_count": 107,
   "metadata": {
    "collapsed": true
   },
   "outputs": [],
   "source": [
    "trainStopwordsVector = stopwordVector.fit_transform(X_train)\n",
    "testStopwordsVector = stopwordVector.transform(X_test)"
   ]
  },
  {
   "cell_type": "code",
   "execution_count": 108,
   "metadata": {
    "collapsed": true
   },
   "outputs": [],
   "source": [
    "classifierStopwords = MultinomialNB()\n",
    "modelStopwords = classifierStopwords.fit(trainStopwordsVector, y_train)"
   ]
  },
  {
   "cell_type": "code",
   "execution_count": 109,
   "metadata": {
    "collapsed": false
   },
   "outputs": [
    {
     "name": "stdout",
     "output_type": "stream",
     "text": [
      "[[4744 1310]\n",
      " [ 400 1546]]\n"
     ]
    }
   ],
   "source": [
    "y_hat_trainStopwords = modelStopwords.predict(testStopwordsVector)\n",
    "cm4 = confusion_matrix(y_test, y_hat_trainStopwords)\n",
    "print cm4"
   ]
  },
  {
   "cell_type": "code",
   "execution_count": 110,
   "metadata": {
    "collapsed": false
   },
   "outputs": [
    {
     "data": {
      "text/plain": [
       "<matplotlib.figure.Figure at 0x12fdd2550>"
      ]
     },
     "metadata": {},
     "output_type": "display_data"
    },
    {
     "data": {
      "image/png": "[encoded data removed]",
      "text/plain": [
       "<matplotlib.figure.Figure at 0x12fdd2510>"
      ]
     },
     "metadata": {},
     "output_type": "display_data"
    }
   ],
   "source": [
    "plt.clf()\n",
    "plt.matshow(cm4)\n",
    "plt.title('Confusion matrix Stopwords')\n",
    "plt.colorbar()\n",
    "plt.ylabel('True label')\n",
    "plt.xlabel('Predicted label')\n",
    "plt.show()"
   ]
  },
  {
   "cell_type": "code",
   "execution_count": 111,
   "metadata": {
    "collapsed": true
   },
   "outputs": [],
   "source": [
    "modelCoefficients = modelStopwords.coef_[0]\n",
    "modelFeatures = stopwordVector.get_feature_names()"
   ]
  },
  {
   "cell_type": "code",
   "execution_count": 112,
   "metadata": {
    "collapsed": true
   },
   "outputs": [],
   "source": [
    "feature_Coeffs = []\n",
    "if len(modelCoefficients)==len(modelFeatures):\n",
    "    for i in range(len(modelCoefficients)):\n",
    "        feature_Coeffs.append((modelFeatures[i], modelCoefficients[i]))"
   ]
  },
  {
   "cell_type": "code",
   "execution_count": 113,
   "metadata": {
    "collapsed": true
   },
   "outputs": [],
   "source": [
    "from operator import itemgetter\n",
    "feature_Coeffs = sorted(feature_Coeffs,key=itemgetter(1))"
   ]
  },
  {
   "cell_type": "markdown",
   "metadata": {},
   "source": [
    "#### Top 10 High Salary Features:"
   ]
  },
  {
   "cell_type": "code",
   "execution_count": 114,
   "metadata": {
    "collapsed": false
   },
   "outputs": [
    {
     "data": {
      "text/plain": [
       "[(u'client', -5.0302863672039457),\n",
       " (u'work', -5.022948380751032),\n",
       " (u'role', -4.9794978373953676),\n",
       " (u'business', -4.8812927545961209),\n",
       " (u'team', -4.8745003640359563),\n",
       " (u':', -4.6235491099010435),\n",
       " (u'****', -4.555622310765683),\n",
       " (u'experience', -4.4964861040622282),\n",
       " (u'.', -3.0819242349013454),\n",
       " (u',', -2.9417482995581548)]"
      ]
     },
     "execution_count": 114,
     "metadata": {},
     "output_type": "execute_result"
    }
   ],
   "source": [
    "feature_Coeffs[-10:]"
   ]
  },
  {
   "cell_type": "markdown",
   "metadata": {},
   "source": [
    "#### Top 10 Low Salary Features"
   ]
  },
  {
   "cell_type": "code",
   "execution_count": 115,
   "metadata": {
    "collapsed": false
   },
   "outputs": [
    {
     "data": {
      "text/plain": [
       "[(u\"'appointment\", -13.237142795603596),\n",
       " (u\"'boh\", -13.237142795603596),\n",
       " (u\"'booked\", -13.237142795603596),\n",
       " (u\"'brand\", -13.237142795603596),\n",
       " (u\"'building\", -13.237142795603596),\n",
       " (u\"'builtin\", -13.237142795603596),\n",
       " (u\"'busy\", -13.237142795603596),\n",
       " (u\"'buzz\", -13.237142795603596),\n",
       " (u\"'canvassing\", -13.237142795603596),\n",
       " (u\"'care\", -13.237142795603596)]"
      ]
     },
     "execution_count": 115,
     "metadata": {},
     "output_type": "execute_result"
    }
   ],
   "source": [
    "feature_Coeffs[:10]"
   ]
  },
  {
   "cell_type": "markdown",
   "metadata": {},
   "source": [
    "### B4 Part-of-Speech Bi-grams"
   ]
  },
  {
   "cell_type": "code",
   "execution_count": 116,
   "metadata": {
    "collapsed": true
   },
   "outputs": [],
   "source": [
    "def pos_BiGramizer(doc):\n",
    "    tokens = nltk.word_tokenize(doc.lower())\n",
    "    tagged = nltk.pos_tag(tokens)\n",
    "    ord_pos = [y for x, y in tagged]\n",
    "    pos_BiGrams = []\n",
    "    for i in range(len(ord_pos)-1):\n",
    "        pos_BiGrams.append(ord_pos[i] + '_' + ord_pos[i+1])\n",
    "    return list(pos_BiGrams)"
   ]
  },
  {
   "cell_type": "code",
   "execution_count": 117,
   "metadata": {
    "collapsed": true
   },
   "outputs": [],
   "source": [
    "def pos_BG_count_tokenizer(doc):\n",
    "    return nltk.word_tokenize(doc) + pos_BiGramizer(doc)"
   ]
  },
  {
   "cell_type": "code",
   "execution_count": 118,
   "metadata": {
    "collapsed": true
   },
   "outputs": [],
   "source": [
    "class POS_BG_Tokenizer(object):\n",
    "    def __call__(self, doc):\n",
    "        return pos_BG_count_tokenizer(doc)"
   ]
  },
  {
   "cell_type": "code",
   "execution_count": 119,
   "metadata": {
    "collapsed": true
   },
   "outputs": [],
   "source": [
    "posBGVector = CountVectorizer(stop_words='english',\n",
    "                                tokenizer=POS_BG_Tokenizer())"
   ]
  },
  {
   "cell_type": "code",
   "execution_count": 120,
   "metadata": {
    "collapsed": false
   },
   "outputs": [],
   "source": [
    "trainBGVector = posBGVector.fit_transform(X_train)\n",
    "testBGVector = posBGVector.transform(X_test)"
   ]
  },
  {
   "cell_type": "code",
   "execution_count": 121,
   "metadata": {
    "collapsed": true
   },
   "outputs": [],
   "source": [
    "classifierBG = MultinomialNB()\n",
    "modelBG = classifierBG.fit(trainBGVector, y_train)"
   ]
  },
  {
   "cell_type": "code",
   "execution_count": 122,
   "metadata": {
    "collapsed": false
   },
   "outputs": [
    {
     "name": "stdout",
     "output_type": "stream",
     "text": [
      "[[4745 1309]\n",
      " [ 420 1526]]\n"
     ]
    }
   ],
   "source": [
    "y_hat_trainBG = modelBG.predict(testBGVector)\n",
    "cm5 = confusion_matrix(y_test, y_hat_trainBG)\n",
    "print cm5"
   ]
  },
  {
   "cell_type": "code",
   "execution_count": 123,
   "metadata": {
    "collapsed": false
   },
   "outputs": [
    {
     "data": {
      "text/plain": [
       "<matplotlib.figure.Figure at 0x122454450>"
      ]
     },
     "metadata": {},
     "output_type": "display_data"
    },
    {
     "data": {
      "image/png": "[encoded data removed]",
      "text/plain": [
       "<matplotlib.figure.Figure at 0x122454a90>"
      ]
     },
     "metadata": {},
     "output_type": "display_data"
    }
   ],
   "source": [
    "plt.clf()\n",
    "plt.matshow(cm5)\n",
    "plt.title('Confusion matrix POS-Bigrams')\n",
    "plt.colorbar()\n",
    "plt.ylabel('True label')\n",
    "plt.xlabel('Predicted label')\n",
    "plt.show()"
   ]
  },
  {
   "cell_type": "markdown",
   "metadata": {},
   "source": [
    "Ultimatley the adjustments made in Part B3 (removing of stop words), outperformed the part of speech bigram (B4), but the results were incredibly similar. Both classifed approximately the same amount as \"high\" salary correctly (1546 for removing stop words, and 1526 for the part of speech bigram). The difference between the two (20) is incredibly small given the fact that the total data size was 8000 postings- so they performed relatively equally."
   ]
  }
 ],
 "metadata": {
  "kernelspec": {
   "display_name": "Python 2",
   "language": "python",
   "name": "python2"
  },
  "language_info": {
   "codemirror_mode": {
    "name": "ipython",
    "version": 2
   },
   "file_extension": ".py",
   "mimetype": "text/x-python",
   "name": "python",
   "nbconvert_exporter": "python",
   "pygments_lexer": "ipython2",
   "version": "2.7.10"
  }
 },
 "nbformat": 4,
 "nbformat_minor": 0
}
