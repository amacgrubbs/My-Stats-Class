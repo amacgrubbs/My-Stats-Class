{
 "cells": [
  {
   "cell_type": "markdown",
   "metadata": {},
   "source": [
    "## Part A (basic text mining)"
   ]
  },
  {
   "cell_type": "markdown",
   "metadata": {},
   "source": [
    "### A1. What are the top 5 parts of speech in this corpus of job descriptions? How frequently do they appear?"
   ]
  },
  {
   "cell_type": "code",
   "execution_count": 1,
   "metadata": {
    "collapsed": false
   },
   "outputs": [
    {
     "name": "stdout",
     "output_type": "stream",
     "text": [
      "Populating the interactive namespace from numpy and matplotlib\n"
     ]
    }
   ],
   "source": [
    "import pandas as pd\n",
    "%pylab inline\n",
    "import nltk\n",
    "from collections import Counter, defaultdict\n",
    "from nltk.corpus import stopwords\n",
    "from nltk.stem import WordNetLemmatizer\n",
    "from nltk.tokenize import WhitespaceTokenizer"
   ]
  },
  {
   "cell_type": "code",
   "execution_count": 2,
   "metadata": {
    "collapsed": false
   },
   "outputs": [],
   "source": [
    "salaryData = pd.read_csv('data/Train_rev1.csv')[['FullDescription', 'SalaryNormalized']][:250]\n",
    "salaryData['Raw'] = salaryData['FullDescription'].str.decode('utf8')"
   ]
  },
  {
   "cell_type": "code",
   "execution_count": 3,
   "metadata": {
    "collapsed": false
   },
   "outputs": [],
   "source": [
    "salary_tokens = salaryData['Raw'].map(WhitespaceTokenizer().tokenize)\n",
    "salary_pos = salary_tokens.map(nltk.pos_tag)"
   ]
  },
  {
   "cell_type": "code",
   "execution_count": 4,
   "metadata": {
    "collapsed": true
   },
   "outputs": [],
   "source": [
    "salary_pos_list = []\n",
    "\n",
    "for l in salary_pos:\n",
    "    for number in l:\n",
    "        salary_pos_list.append(number)\n",
    "\n",
    "pos_count = Counter((tag for (word,tag) in salary_pos_list))\n",
    "\n",
    "mc_pos = pos_count.most_common(5)\n",
    "\n",
    "mc_pos_freq = [(word,round((float(tag)/sum(pos_count.values()).astype(float))*100,2)) for (word,tag) in mc_pos]"
   ]
  },
  {
   "cell_type": "markdown",
   "metadata": {},
   "source": [
    "#### The top 5 parts of speech from this corpus of job descriptions are:"
   ]
  },
  {
   "cell_type": "code",
   "execution_count": 5,
   "metadata": {
    "collapsed": false
   },
   "outputs": [
    {
     "data": {
      "text/plain": [
       "[('NNP', 12216), ('NN', 9947), ('IN', 6436), ('DT', 4637), ('JJ', 4371)]"
      ]
     },
     "execution_count": 5,
     "metadata": {},
     "output_type": "execute_result"
    }
   ],
   "source": [
    "mc_pos"
   ]
  },
  {
   "cell_type": "markdown",
   "metadata": {},
   "source": [
    "#### These parts of speech appear with the following frequencies:"
   ]
  },
  {
   "cell_type": "code",
   "execution_count": 6,
   "metadata": {
    "collapsed": false
   },
   "outputs": [
    {
     "data": {
      "text/plain": [
       "[('NNP', 20.55), ('NN', 16.73), ('IN', 10.83), ('DT', 7.8), ('JJ', 7.35)]"
      ]
     },
     "execution_count": 6,
     "metadata": {},
     "output_type": "execute_result"
    }
   ],
   "source": [
    "mc_pos_freq"
   ]
  },
  {
   "cell_type": "markdown",
   "metadata": {},
   "source": [
    "### A2. Does this corpus support Zipf’s law? Plot the most common 100 words in the corpus against the theoretical prediction of the law."
   ]
  },
  {
   "cell_type": "code",
   "execution_count": 7,
   "metadata": {
    "collapsed": true
   },
   "outputs": [],
   "source": [
    "salary_token_list = []\n",
    "\n",
    "for i in salary_tokens:\n",
    "    for number in i:\n",
    "        salary_token_list.append(number)\n",
    "\n",
    "sal_replacer = ['****']        \n",
    "        \n",
    "salary_lower = [w.lower() for w in salary_token_list if w not in sal_replacer]\n",
    "        \n",
    "word_count = Counter((word for word in salary_lower))\n",
    "\n",
    "most_common_words = word_count.most_common(100)\n",
    "\n",
    "rank_freq = [x[1] for x in most_common_words]\n",
    "rank = xrange(1,101)\n",
    "log_rank = [log(x) for x in xrange(1,101)]\n",
    "    \n",
    "inverse_rank = [1/float(i) for i in rank]"
   ]
  },
  {
   "cell_type": "markdown",
   "metadata": {},
   "source": [
    "#### As seen in the plot below, if we plot the frequency of top 100 most common words versus their rank on a loglog plot, we see a curve that is similar to Zipf's law for the majority of the common words. We see the curve tail off as the rank of the word decreases as many of these words have similar frequencies in our corpus at this low ranking. This differs from Zipf's law which assumes the frequencies will continue to decrease as the rank decreases."
   ]
  },
  {
   "cell_type": "code",
   "execution_count": 8,
   "metadata": {
    "collapsed": false
   },
   "outputs": [
    {
     "name": "stderr",
     "output_type": "stream",
     "text": [
      "/usr/local/lib/python2.7/site-packages/matplotlib/cbook.py:137: MatplotlibDeprecationWarning: The \"loc\" positional argument to legend is deprecated. Please use the \"loc\" keyword instead.\n",
      "  warnings.warn(message, mplDeprecation, stacklevel=1)\n"
     ]
    },
    {
     "data": {
      "text/plain": [
       "<matplotlib.legend.Legend at 0x116985a50>"
      ]
     },
     "execution_count": 8,
     "metadata": {},
     "output_type": "execute_result"
    },
    {
     "data": {
      "image/png": "[encoded data removed]",
      "text/plain": [
       "<matplotlib.figure.Figure at 0x10a966510>"
      ]
     },
     "metadata": {},
     "output_type": "display_data"
    }
   ],
   "source": [
    "plt.plot(log(rank_freq),log_rank)\n",
    "plt.plot(log(inverse_rank)+ 8.8,log_rank)\n",
    "plt.suptitle('Frequency of Top 100 Words Compared to Zipf\\'s Law')\n",
    "plt.xlabel('log(Rank of word)')\n",
    "plt.ylabel(\"log(Frequency of the word)\")\n",
    "plt.legend((\"Top 100 Words\",\"1/freq: ideal case\"),\"upper right\")"
   ]
  },
  {
   "cell_type": "markdown",
   "metadata": {},
   "source": [
    "### A3. If we remove stopwords and lemmatize the corpus, what are the 10 most common words? What is their frequency?"
   ]
  },
  {
   "cell_type": "code",
   "execution_count": 9,
   "metadata": {
    "collapsed": true
   },
   "outputs": [],
   "source": [
    "wordnet_lemmatizer =  WordNetLemmatizer()\n",
    "\n",
    "no_stops = [w for w in salary_lower if w not in stopwords.words(\"english\")]\n",
    "\n",
    "lemma = [wordnet_lemmatizer.lemmatize(i) for i in no_stops]\n",
    "\n",
    "lemma_word_count = Counter((word for word in lemma))\n",
    "\n",
    "mc_lemma_words = lemma_word_count.most_common(10)\n",
    "\n",
    "mc_lemma_words_freq = [(word,round((float(tag)/sum(lemma_word_count.values()).astype(float))*100,2)) for (word,tag) in mc_lemma_words]"
   ]
  },
  {
   "cell_type": "markdown",
   "metadata": {},
   "source": [
    "#### The top 10 most common words from the corpus are:"
   ]
  },
  {
   "cell_type": "code",
   "execution_count": 10,
   "metadata": {
    "collapsed": false
   },
   "outputs": [
    {
     "data": {
      "text/plain": [
       "[(u'work', 324),\n",
       " (u'job', 324),\n",
       " (u'experience', 321),\n",
       " (u'chef', 277),\n",
       " (u'working', 269),\n",
       " (u'within', 266),\n",
       " (u'client', 255),\n",
       " (u'manager', 203),\n",
       " (u'candidate', 190),\n",
       " (u'team', 183)]"
      ]
     },
     "execution_count": 10,
     "metadata": {},
     "output_type": "execute_result"
    }
   ],
   "source": [
    "mc_lemma_words"
   ]
  },
  {
   "cell_type": "markdown",
   "metadata": {},
   "source": [
    "#### These words appear with the following frequencies:"
   ]
  },
  {
   "cell_type": "code",
   "execution_count": 11,
   "metadata": {
    "collapsed": false
   },
   "outputs": [
    {
     "data": {
      "text/plain": [
       "[(u'work', 0.9),\n",
       " (u'job', 0.9),\n",
       " (u'experience', 0.89),\n",
       " (u'chef', 0.77),\n",
       " (u'working', 0.75),\n",
       " (u'within', 0.74),\n",
       " (u'client', 0.71),\n",
       " (u'manager', 0.56),\n",
       " (u'candidate', 0.53),\n",
       " (u'team', 0.51)]"
      ]
     },
     "execution_count": 11,
     "metadata": {},
     "output_type": "execute_result"
    }
   ],
   "source": [
    "mc_lemma_words_freq"
   ]
  },
  {
   "cell_type": "markdown",
   "metadata": {},
   "source": [
    "# Part B (predict salary from job description)"
   ]
  },
  {
   "cell_type": "markdown",
   "metadata": {},
   "source": [
    "### B1. Create a classification model with all words and the bag-of-words approach. How accurate is the model (show the confusion matrix)? "
   ]
  },
  {
   "cell_type": "code",
   "execution_count": 12,
   "metadata": {
    "collapsed": false
   },
   "outputs": [],
   "source": [
    "top_quartile = salaryData['SalaryNormalized'].describe()['75%']\n",
    "salaryData['high'] = (salaryData['SalaryNormalized'] > top_quartile).astype(int)\n",
    "salaryData.drop('SalaryNormalized', axis=1, inplace=True)"
   ]
  },
  {
   "cell_type": "code",
   "execution_count": 13,
   "metadata": {
    "collapsed": true
   },
   "outputs": [],
   "source": [
    "# data splits\n",
    "from sklearn.cross_validation import train_test_split\n",
    "\n",
    "X_train, X_test, y_train, y_test = train_test_split(salaryData['FullDescription'],\n",
    "                                                    salaryData['high'],\n",
    "                                                    test_size=0.4, random_state=1)"
   ]
  },
  {
   "cell_type": "code",
   "execution_count": 14,
   "metadata": {
    "collapsed": true
   },
   "outputs": [],
   "source": [
    "from sklearn.feature_extraction.text import CountVectorizer\n",
    "trainVectorizer = CountVectorizer(min_df=1)"
   ]
  },
  {
   "cell_type": "code",
   "execution_count": 15,
   "metadata": {
    "collapsed": true
   },
   "outputs": [],
   "source": [
    "trainVectorCount = trainVectorizer.fit_transform(X_train)\n",
    "testVectorCount = trainVectorizer.transform(X_test)"
   ]
  },
  {
   "cell_type": "code",
   "execution_count": 16,
   "metadata": {
    "collapsed": false
   },
   "outputs": [],
   "source": [
    "from sklearn.naive_bayes import MultinomialNB\n",
    "classifier = MultinomialNB()\n",
    "model = classifier.fit(trainVectorCount, y_train)"
   ]
  },
  {
   "cell_type": "code",
   "execution_count": 17,
   "metadata": {
    "collapsed": false
   },
   "outputs": [
    {
     "name": "stdout",
     "output_type": "stream",
     "text": [
      "[[60 13]\n",
      " [ 8 19]]\n"
     ]
    }
   ],
   "source": [
    "from sklearn.metrics import confusion_matrix\n",
    "y_hat_train = model.predict(trainVectorCount)\n",
    "\n",
    "cm = confusion_matrix(y_train,y_hat_train)\n",
    "y_hat_test = model.predict(testVectorCount)\n",
    "cm2 = confusion_matrix(y_test,y_hat_test)\n",
    "print cm2"
   ]
  },
  {
   "cell_type": "code",
   "execution_count": 18,
   "metadata": {
    "collapsed": false
   },
   "outputs": [
    {
     "data": {
      "image/png": "[encoded data removed]",
      "text/plain": [
       "<matplotlib.figure.Figure at 0x1135e4310>"
      ]
     },
     "metadata": {},
     "output_type": "display_data"
    }
   ],
   "source": [
    "plt.matshow(cm2)\n",
    "plt.title('Confusion matrix Bag-of-Words')\n",
    "plt.colorbar()\n",
    "plt.ylabel('True label')\n",
    "plt.xlabel('Predicted label')\n",
    "plt.show()"
   ]
  },
  {
   "cell_type": "markdown",
   "metadata": {},
   "source": [
    "### B2 Lemmatization"
   ]
  },
  {
   "cell_type": "markdown",
   "metadata": {},
   "source": [
    "We would expect that the lemmatization model would perform better since it is not tokenizing based only on punctuation but on the root of the word. This would in theory mean that a classification model would be able to classify documents based on the root words instead of particular conjugations and thus perform better since there are fewer features (i.e. multiple conjugations/features collapse into one root)."
   ]
  },
  {
   "cell_type": "code",
   "execution_count": 19,
   "metadata": {
    "collapsed": true
   },
   "outputs": [],
   "source": [
    "from nltk import word_tokenize\n",
    "from nltk.stem import WordNetLemmatizer\n",
    "class LemmaTokenizer(object):\n",
    "    def __init__(self):\n",
    "        self.wnl = WordNetLemmatizer()\n",
    "    def __call__(self, doc):\n",
    "        return [self.wnl.lemmatize(t) for t in word_tokenize(doc)]\n",
    "\n",
    "LemmaVector = CountVectorizer(tokenizer=LemmaTokenizer())"
   ]
  },
  {
   "cell_type": "code",
   "execution_count": 20,
   "metadata": {
    "collapsed": true
   },
   "outputs": [],
   "source": [
    "trainVectorLemma = LemmaVector.fit_transform(X_train)\n",
    "testVectorLemma = LemmaVector.transform(X_test)"
   ]
  },
  {
   "cell_type": "code",
   "execution_count": 21,
   "metadata": {
    "collapsed": true
   },
   "outputs": [],
   "source": [
    "classifierLemma = MultinomialNB()\n",
    "modelLemma = classifierLemma.fit(trainVectorLemma, y_train)"
   ]
  },
  {
   "cell_type": "code",
   "execution_count": 22,
   "metadata": {
    "collapsed": false
   },
   "outputs": [
    {
     "name": "stdout",
     "output_type": "stream",
     "text": [
      "[[62 11]\n",
      " [ 8 19]]\n"
     ]
    }
   ],
   "source": [
    "y_hat_trainLemma = modelLemma.predict(trainVectorLemma)\n",
    "\n",
    "y_hat_testLemma = modelLemma.predict(testVectorLemma)\n",
    "cm3 = confusion_matrix(y_test,y_hat_testLemma)\n",
    "print cm3"
   ]
  },
  {
   "cell_type": "code",
   "execution_count": 23,
   "metadata": {
    "collapsed": false
   },
   "outputs": [
    {
     "data": {
      "text/plain": [
       "<matplotlib.figure.Figure at 0x11ab1c7d0>"
      ]
     },
     "metadata": {},
     "output_type": "display_data"
    },
    {
     "data": {
      "image/png": "[encoded data removed]",
      "text/plain": [
       "<matplotlib.figure.Figure at 0x1169e3590>"
      ]
     },
     "metadata": {},
     "output_type": "display_data"
    }
   ],
   "source": [
    "plt.clf()\n",
    "plt.matshow(cm3)\n",
    "plt.title('Confusion matrix Lemma')\n",
    "plt.colorbar()\n",
    "plt.ylabel('True label')\n",
    "plt.xlabel('Predicted label')\n",
    "plt.show()"
   ]
  },
  {
   "cell_type": "markdown",
   "metadata": {},
   "source": [
    "Somewhat counterintuitively, the lemmatization model did not perform noticably better or worse from the simpler stemming model despite being much more computationally expensive."
   ]
  },
  {
   "cell_type": "markdown",
   "metadata": {},
   "source": [
    "### B3 Stopwords"
   ]
  },
  {
   "cell_type": "code",
   "execution_count": 24,
   "metadata": {
    "collapsed": true
   },
   "outputs": [],
   "source": [
    "stopwordVector = CountVectorizer(stop_words='english',\n",
    "                                tokenizer=LemmaTokenizer())"
   ]
  },
  {
   "cell_type": "code",
   "execution_count": 25,
   "metadata": {
    "collapsed": true
   },
   "outputs": [],
   "source": [
    "trainStopwordsVector = stopwordVector.fit_transform(X_train)\n",
    "testStopwordsVector = stopwordVector.transform(X_test)"
   ]
  },
  {
   "cell_type": "code",
   "execution_count": 26,
   "metadata": {
    "collapsed": true
   },
   "outputs": [],
   "source": [
    "classifierStopwords = MultinomialNB()\n",
    "modelStopwords = classifierStopwords.fit(trainStopwordsVector, y_train)"
   ]
  },
  {
   "cell_type": "code",
   "execution_count": 27,
   "metadata": {
    "collapsed": false
   },
   "outputs": [
    {
     "name": "stdout",
     "output_type": "stream",
     "text": [
      "[[61 12]\n",
      " [ 9 18]]\n"
     ]
    }
   ],
   "source": [
    "y_hat_trainStopwords = modelStopwords.predict(testStopwordsVector)\n",
    "cm4 = confusion_matrix(y_test, y_hat_trainStopwords)\n",
    "print cm4"
   ]
  },
  {
   "cell_type": "code",
   "execution_count": 28,
   "metadata": {
    "collapsed": false
   },
   "outputs": [
    {
     "data": {
      "text/plain": [
       "<matplotlib.figure.Figure at 0x11c323d10>"
      ]
     },
     "metadata": {},
     "output_type": "display_data"
    },
    {
     "data": {
      "image/png": "[encoded data removed]",
      "text/plain": [
       "<matplotlib.figure.Figure at 0x11af53f10>"
      ]
     },
     "metadata": {},
     "output_type": "display_data"
    }
   ],
   "source": [
    "plt.clf()\n",
    "plt.matshow(cm4)\n",
    "plt.title('Confusion matrix Stopwords')\n",
    "plt.colorbar()\n",
    "plt.ylabel('True label')\n",
    "plt.xlabel('Predicted label')\n",
    "plt.show()"
   ]
  },
  {
   "cell_type": "code",
   "execution_count": 29,
   "metadata": {
    "collapsed": true
   },
   "outputs": [],
   "source": [
    "modelCoefficients = modelStopwords.coef_[0]\n",
    "modelFeatures = stopwordVector.get_feature_names()"
   ]
  },
  {
   "cell_type": "code",
   "execution_count": 30,
   "metadata": {
    "collapsed": true
   },
   "outputs": [],
   "source": [
    "feature_Coeffs = []\n",
    "if len(modelCoefficients)==len(modelFeatures):\n",
    "    for i in range(len(modelCoefficients)):\n",
    "        feature_Coeffs.append((modelFeatures[i], modelCoefficients[i]))"
   ]
  },
  {
   "cell_type": "code",
   "execution_count": 31,
   "metadata": {
    "collapsed": true
   },
   "outputs": [],
   "source": [
    "from operator import itemgetter\n",
    "feature_Coeffs = sorted(feature_Coeffs,key=itemgetter(1))"
   ]
  },
  {
   "cell_type": "markdown",
   "metadata": {},
   "source": [
    "#### Top 10 High Salary Features:"
   ]
  },
  {
   "cell_type": "code",
   "execution_count": 32,
   "metadata": {
    "collapsed": false
   },
   "outputs": [
    {
     "data": {
      "text/plain": [
       "[(u'project', -5.1906207910926625),\n",
       " (u'team', -5.0953106112883377),\n",
       " (u'design', -5.0595925286862586),\n",
       " (u'manager', -5.0251063526150892),\n",
       " (u'client', -4.9755094114757172),\n",
       " (u'engineer', -4.9437607131611374),\n",
       " (u':', -4.812184355372418),\n",
       " (u'experience', -4.6718269976774955),\n",
       " (u',', -3.4858726988542372),\n",
       " (u'.', -3.2825608661684473)]"
      ]
     },
     "execution_count": 32,
     "metadata": {},
     "output_type": "execute_result"
    }
   ],
   "source": [
    "feature_Coeffs[-10:]"
   ]
  },
  {
   "cell_type": "markdown",
   "metadata": {},
   "source": [
    "#### Top 10 Low Salary Features"
   ]
  },
  {
   "cell_type": "code",
   "execution_count": 33,
   "metadata": {
    "collapsed": false
   },
   "outputs": [
    {
     "data": {
      "text/plain": [
       "[(u'%', -9.1026437965208089),\n",
       " (u\"'\", -9.1026437965208089),\n",
       " (u\"''\", -9.1026437965208089),\n",
       " (u\"'apply\", -9.1026437965208089),\n",
       " (u\"'d\", -9.1026437965208089),\n",
       " (u\"'rgn\", -9.1026437965208089),\n",
       " (u'********2.', -9.1026437965208089),\n",
       " (u'****/****', -9.1026437965208089),\n",
       " (u'****/18', -9.1026437965208089),\n",
       " (u'****0', -9.1026437965208089)]"
      ]
     },
     "execution_count": 33,
     "metadata": {},
     "output_type": "execute_result"
    }
   ],
   "source": [
    "feature_Coeffs[:10]"
   ]
  },
  {
   "cell_type": "markdown",
   "metadata": {},
   "source": [
    "### B4 Part-of-Speech Bi-grams"
   ]
  },
  {
   "cell_type": "code",
   "execution_count": 34,
   "metadata": {
    "collapsed": true
   },
   "outputs": [],
   "source": [
    "def pos_BiGramizer(doc):\n",
    "    tokens = nltk.word_tokenize(doc.lower())\n",
    "    tagged = nltk.pos_tag(tokens)\n",
    "    ord_pos = [y for x, y in tagged]\n",
    "    pos_BiGrams = []\n",
    "    for i in range(len(ord_pos)-1):\n",
    "        pos_BiGrams.append(ord_pos[i] + '_' + ord_pos[i+1])\n",
    "    return list(pos_BiGrams)"
   ]
  },
  {
   "cell_type": "code",
   "execution_count": 35,
   "metadata": {
    "collapsed": true
   },
   "outputs": [],
   "source": [
    "def pos_BG_count_tokenizer(doc):\n",
    "    return nltk.word_tokenize(doc) + pos_BiGramizer(doc)"
   ]
  },
  {
   "cell_type": "code",
   "execution_count": 36,
   "metadata": {
    "collapsed": true
   },
   "outputs": [],
   "source": [
    "class POS_BG_Tokenizer(object):\n",
    "    def __call__(self, doc):\n",
    "        return pos_BG_count_tokenizer(doc)"
   ]
  },
  {
   "cell_type": "code",
   "execution_count": 37,
   "metadata": {
    "collapsed": true
   },
   "outputs": [],
   "source": [
    "posBGVector = CountVectorizer(stop_words='english',\n",
    "                                tokenizer=POS_BG_Tokenizer())"
   ]
  },
  {
   "cell_type": "code",
   "execution_count": 38,
   "metadata": {
    "collapsed": false
   },
   "outputs": [],
   "source": [
    "trainBGVector = posBGVector.fit_transform(X_train)\n",
    "testBGVector = posBGVector.transform(X_test)"
   ]
  },
  {
   "cell_type": "code",
   "execution_count": 39,
   "metadata": {
    "collapsed": true
   },
   "outputs": [],
   "source": [
    "classifierBG = MultinomialNB()\n",
    "modelBG = classifierBG.fit(trainBGVector, y_train)"
   ]
  },
  {
   "cell_type": "code",
   "execution_count": 40,
   "metadata": {
    "collapsed": false
   },
   "outputs": [
    {
     "name": "stdout",
     "output_type": "stream",
     "text": [
      "[[62 11]\n",
      " [ 8 19]]\n"
     ]
    }
   ],
   "source": [
    "y_hat_trainBG = modelBG.predict(testBGVector)\n",
    "cm5 = confusion_matrix(y_test, y_hat_trainBG)\n",
    "print cm5"
   ]
  },
  {
   "cell_type": "code",
   "execution_count": 41,
   "metadata": {
    "collapsed": false
   },
   "outputs": [
    {
     "data": {
      "text/plain": [
       "<matplotlib.figure.Figure at 0x1169e3450>"
      ]
     },
     "metadata": {},
     "output_type": "display_data"
    },
    {
     "data": {
      "image/png": "[encoded data removed]",
      "text/plain": [
       "<matplotlib.figure.Figure at 0x11b1a4510>"
      ]
     },
     "metadata": {},
     "output_type": "display_data"
    }
   ],
   "source": [
    "plt.clf()\n",
    "plt.matshow(cm5)\n",
    "plt.title('Confusion matrix POS-Bigrams')\n",
    "plt.colorbar()\n",
    "plt.ylabel('True label')\n",
    "plt.xlabel('Predicted label')\n",
    "plt.show()"
   ]
  }
 ],
 "metadata": {
  "kernelspec": {
   "display_name": "Python 2",
   "language": "python",
   "name": "python2"
  },
  "language_info": {
   "codemirror_mode": {
    "name": "ipython",
    "version": 2
   },
   "file_extension": ".py",
   "mimetype": "text/x-python",
   "name": "python",
   "nbconvert_exporter": "python",
   "pygments_lexer": "ipython2",
   "version": "2.7.10"
  }
 },
 "nbformat": 4,
 "nbformat_minor": 0
}
