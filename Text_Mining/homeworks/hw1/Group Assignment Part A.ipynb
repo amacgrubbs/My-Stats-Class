{
 "cells": [
  {
   "cell_type": "code",
   "execution_count": 61,
   "metadata": {},
   "outputs": [
    {
     "name": "stdout",
     "output_type": "stream",
     "text": [
      "Populating the interactive namespace from numpy and matplotlib\n"
     ]
    }
   ],
   "source": [
    "from pandas import Series, DataFrame\n",
    "import pandas as pd\n",
    "%pylab inline\n",
    "import nltk\n",
    "import itertools\n",
    "import scipy.stats as ss\n",
    "from nltk.corpus import wordnet\n",
    "import matplotlib"
   ]
  },
  {
   "cell_type": "code",
   "execution_count": 3,
   "metadata": {},
   "outputs": [],
   "source": [
    "## cut the total number of entries used - 200,000 takes to long\n",
    "job_description = pd.read_csv('Train_rev1.csv',\n",
    "                              nrows= 10,\n",
    "                              dtype = unicode)"
   ]
  },
  {
   "cell_type": "code",
   "execution_count": 4,
   "metadata": {},
   "outputs": [
    {
     "name": "stdout",
     "output_type": "stream",
     "text": [
      "['Id' 'Title' 'FullDescription' 'LocationRaw' 'LocationNormalized'\n",
      " 'ContractType' 'ContractTime' 'Company' 'Category' 'SalaryRaw'\n",
      " 'SalaryNormalized' 'SourceName']\n"
     ]
    }
   ],
   "source": [
    "print job_description.columns.values"
   ]
  },
  {
   "cell_type": "code",
   "execution_count": 15,
   "metadata": {},
   "outputs": [],
   "source": [
    "description_list = list(job_description['FullDescription'])"
   ]
  },
  {
   "cell_type": "code",
   "execution_count": 31,
   "metadata": {},
   "outputs": [],
   "source": [
    "## Tokenization\n",
    "\n",
    "tokens = [nltk.word_tokenize(i) for i in description_list]\n",
    "tokens = list(itertools.chain(*tokens))"
   ]
  },
  {
   "cell_type": "code",
   "execution_count": 40,
   "metadata": {},
   "outputs": [],
   "source": [
    "## Tagging\n",
    "\n",
    "tagged = nltk.pos_tag(tokens)\n",
    "names = [\"Token\", \"POS\"]\n",
    "tagged_df = pd.DataFrame(tagged)\n",
    "tagged_df.columns = names"
   ]
  },
  {
   "cell_type": "markdown",
   "metadata": {},
   "source": [
    "Part A: A1 - Top 5 parts of speech"
   ]
  },
  {
   "cell_type": "code",
   "execution_count": 41,
   "metadata": {},
   "outputs": [
    {
     "data": {
      "text/plain": [
       "NNP    525\n",
       "NN     307\n",
       ",      150\n",
       "JJ     136\n",
       "IN     136\n",
       "dtype: int64"
      ]
     },
     "execution_count": 41,
     "output_type": "execute_result",
     "metadata": {}
    },
    {
     "data": {
      "image/png": "[encoded data removed]"
     },
     "output_type": "display_data",
     "metadata": {}
    }
   ],
   "source": [
    "## Top 5 parts of speech \n",
    "\n",
    "POS_VC = tagged_df['POS'].value_counts()\n",
    "POS_VC[:5].plot(kind = 'bar')\n",
    "POS_VC[:5]"
   ]
  },
  {
   "cell_type": "markdown",
   "metadata": {},
   "source": [
    "Part A: A2 - Zipf's Law with 100 most common words"
   ]
  },
  {
   "cell_type": "code",
   "execution_count": 151,
   "metadata": {},
   "outputs": [
    {
     "data": {
      "text/plain": [
       "<matplotlib.axes._subplots.AxesSubplot at 0x29282668>"
      ]
     },
     "execution_count": 151,
     "output_type": "execute_result",
     "metadata": {}
    },
    {
     "data": {
      "image/png": "[encoded data removed]"
     },
     "output_type": "display_data",
     "metadata": {}
    }
   ],
   "source": [
    "## 100 Most Common Words (not account for theoretical prediction of Zipf's Law)\n",
    "\n",
    "Word_VC = tagged_df['Token'].value_counts()\n",
    "Word_VC[:100].plot(kind = 'line')"
   ]
  },
  {
   "cell_type": "code",
   "execution_count": 150,
   "metadata": {},
   "outputs": [
    {
     "data": {
      "image/png": "[encoded data removed]"
     },
     "output_type": "display_data",
     "metadata": {}
    }
   ],
   "source": [
    "## Zipf's Law\n",
    "from collections import defaultdict\n",
    "import matplotlib.pyplot as plt\n",
    "from collections import Counter\n",
    "\n",
    "wc = dict(Counter(tokens))\n",
    "sorted(wc.items(), key = lambda item: item[1])\n",
    "freqs = wc.values()\n",
    "freqs.sort(reverse=True)\n",
    "\n",
    "## Only the 100 most common words\n",
    "freqs = freqs[:100]\n",
    "\n",
    "rf = [(r+1, f) for r, f in enumerate(freqs)]\n",
    "rs, fs = zip(*rf)\n",
    "\n",
    "## plot details\n",
    "\n",
    "plt.clf()\n",
    "plt.xscale('log')\n",
    "plt.yscale('log')\n",
    "plt.title('Zipf\\'s Law plot')\n",
    "plt.xlabel('rank')\n",
    "plt.ylabel('frequency')\n",
    "plt.plot(rs, fs, 'r-')\n",
    "plt.show()"
   ]
  },
  {
   "cell_type": "markdown",
   "metadata": {},
   "source": [
    "Part A: A3 - 10 most common words with the removal of stopwards and lemmatization"
   ]
  },
  {
   "cell_type": "code",
   "execution_count": 178,
   "metadata": {},
   "outputs": [
    {
     "name": "stdout",
     "output_type": "stream",
     "text": [
      "Number of Stopwords removed = 494\n"
     ]
    },
    {
     "data": {
      "text/plain": [
       ",              150\n",
       ".               63\n",
       "Engineering     20\n",
       "Analyst         14\n",
       "experience      14\n",
       "Recruitment     13\n",
       "****            13\n",
       "&               12\n",
       "Systems         12\n",
       "client          11\n",
       "dtype: int64"
      ]
     },
     "execution_count": 178,
     "output_type": "execute_result",
     "metadata": {}
    },
    {
     "data": {
      "image/png": "[encoded data removed]"
     },
     "output_type": "display_data",
     "metadata": {}
    }
   ],
   "source": [
    "## Stop Word Removal (Results after stopwords are removed)\n",
    "\n",
    "from nltk.corpus import stopwords\n",
    "stop = stopwords.words('english')\n",
    "\n",
    "no_stop = [word for word in tokens if word not in stop]\n",
    "print \"Number of Stopwords removed =\", (len(tokens) - len(no_stop))\n",
    "\n",
    "tagged_no_stop = nltk.pos_tag(no_stop)\n",
    "names = [\"Token_no_stop\", \"POS\"]\n",
    "tagged_no_stop_df = pd.DataFrame(tagged_no_stop)\n",
    "tagged_no_stop_df.columns = names\n",
    "\n",
    "no_stop_VC = tagged_no_stop_df['Token_no_stop'].value_counts()\n",
    "no_stop_VC[:10].plot(kind = 'line')\n",
    "no_stop_VC[:10]"
   ]
  },
  {
   "cell_type": "code",
   "execution_count": 168,
   "metadata": {},
   "outputs": [
    {
     "data": {
      "text/plain": [
       ",              150\n",
       ".               63\n",
       "Engineering     20\n",
       "client          17\n",
       "Analyst         14\n",
       "experience      14\n",
       "Recruitment     13\n",
       "****            13\n",
       "Systems         12\n",
       "&               12\n",
       "dtype: int64"
      ]
     },
     "execution_count": 168,
     "output_type": "execute_result",
     "metadata": {}
    },
    {
     "data": {
      "image/png": "[encoded data removed]"
     },
     "output_type": "display_data",
     "metadata": {}
    }
   ],
   "source": [
    "## Lemmatization (results after remaining words are lemmatized)\n",
    "\n",
    "from nltk.stem import WordNetLemmatizer\n",
    "\n",
    "lemmatizer = WordNetLemmatizer()\n",
    "\n",
    "lemmatized = [lemmatizer.lemmatize(word) for word in no_stop]\n",
    "lemmatized_tagged = nltk.pos_tag(lemmatized)\n",
    "names = [\"Token_Lemmatized\", \"POS\"]\n",
    "lemmatized_tagged_df = pd.DataFrame(lemmatized_tagged)\n",
    "lemmatized_tagged_df.columns = names\n",
    "\n",
    "lematized_VC = lemmatized_tagged_df['Token_Lemmatized'].value_counts()\n",
    "lematized_VC[:10].plot(kind = 'line')\n",
    "lematized_VC[:10]"
   ]
  }
 ],
 "metadata": {
  "kernelspec": {
   "display_name": "Python 2",
   "language": "python",
   "name": "python2"
  },
  "language_info": {
   "codemirror_mode": {
    "name": "ipython",
    "version": 2.0
   },
   "file_extension": ".py",
   "mimetype": "text/x-python",
   "name": "python",
   "nbconvert_exporter": "python",
   "pygments_lexer": "ipython2",
   "version": "2.7.10"
  }
 },
 "nbformat": 4,
 "nbformat_minor": 0
}