{
 "cells": [
  {
   "cell_type": "markdown",
   "metadata": {},
   "source": [
    "1. write sentences  \n",
    "2. attribute sentences to brand (w/ fuzzy match)  \n",
    "3. attribute sentences to model (probably harder match)  \n",
    "4. backwards attribute 0 model sentence to previous sentence if sentence only contains one model (maybe start with only using sentences that specifically mention the model."
   ]
  },
  {
   "cell_type": "code",
   "execution_count": 5,
   "metadata": {
    "collapsed": true
   },
   "outputs": [],
   "source": [
    "import pandas as pd\n",
    "edmunds_raw_reviews = pd.read_csv('Edmunds_Posts.csv')\n",
    "edmunds_raw_reviews = edmunds_raw_reviews[['Posts']]"
   ]
  },
  {
   "cell_type": "code",
   "execution_count": 10,
   "metadata": {
    "collapsed": false
   },
   "outputs": [
    {
     "data": {
      "text/plain": [
       "'The success of the LexusES does prove that, at least in the US market, the LexusES is unbeatable. In Europe though, its a completely unsellable car. Agree with the first part.  Not sure about the second part.  The RX is doing incredibly well in UK.  Lexus has only just arrived in Europe as a brand identity distinct from Toyota, starting from UK.'"
      ]
     },
     "execution_count": 10,
     "metadata": {},
     "output_type": "execute_result"
    }
   ],
   "source": [
    "edmunds_raw_reviews['Posts'].iloc[3]"
   ]
  },
  {
   "cell_type": "code",
   "execution_count": null,
   "metadata": {
    "collapsed": false
   },
   "outputs": [],
   "source": [
    "test_review = edmunds_raw_reviews['Posts'].iloc[0]"
   ]
  },
  {
   "cell_type": "code",
   "execution_count": null,
   "metadata": {
    "collapsed": false
   },
   "outputs": [],
   "source": [
    "import nltk.data\n",
    "sentence_tokenizer = nltk.data.load('tokenizers/punkt/english.pickle')\n",
    "\n",
    "def sentence_splitter(input_review_string):\n",
    "    sentences = sentence_tokenizer.tokenize(input_review_string)\n",
    "    split_sentences = [sentence.split() for sentence in sentences]    "
   ]
  },
  {
   "cell_type": "code",
   "execution_count": 1,
   "metadata": {
    "collapsed": true
   },
   "outputs": [],
   "source": [
    "def string_preprocessor(sentence_string):\n",
    "    import re\n",
    "    from fuzzywuzzy import process\n",
    "    \n",
    "    # this section handles a problem with identifying mercedes and bmws\n",
    "    a0 = sentence_string.split()\n",
    "    for i in range(len(a0)):\n",
    "        if (process.extractOne(a0[i], ['sclass'])[1] >= 80) and (a0[i] != 'class') and (len(a0[i])>1):\n",
    "            a0[i] = 'sclass'\n",
    "    a0 = ' '.join(a0)\n",
    "    \n",
    "    # this section handles a problem with identifying car names with apostrophes after them\n",
    "    a = re.split('\\W+', a0)\n",
    "    b = [x.lower() for x in a if (x != 's') and (x != '')]\n",
    "    return b"
   ]
  },
  {
   "cell_type": "code",
   "execution_count": 4,
   "metadata": {
    "collapsed": false
   },
   "outputs": [
    {
     "data": {
      "text/plain": [
       "['i',\n",
       " 'drive',\n",
       " 'a',\n",
       " 'bmw',\n",
       " '3',\n",
       " 'series',\n",
       " 'and',\n",
       " 'its',\n",
       " 'the',\n",
       " 'best',\n",
       " 'thing',\n",
       " 'ever']"
      ]
     },
     "execution_count": 4,
     "metadata": {},
     "output_type": "execute_result"
    }
   ],
   "source": [
    "string_preprocessor('I drive a bmw 3-series and its the best thing ever')"
   ]
  },
  {
   "cell_type": "code",
   "execution_count": null,
   "metadata": {
    "collapsed": true
   },
   "outputs": [],
   "source": [
    "def a6_finder(sentence_string):\n",
    "    processed = string_preprocessor(sentence_string)\n",
    "    if (\"a6$\") in processed or (\"a6s$\") in processed: # $ matches end string -> a6=match but a6lsasdfahsu doesnt\n",
    "        return 1\n",
    "    else:\n",
    "        return 0"
   ]
  },
  {
   "cell_type": "code",
   "execution_count": null,
   "metadata": {
    "collapsed": true
   },
   "outputs": [],
   "source": [
    "def a8_finder(sentence_string):\n",
    "    processed = string_preprocessor(sentence_string)\n",
    "    if (\"a8$\" in processed) or (\"a8s$\" in processed):\n",
    "        return 1\n",
    "    else:\n",
    "        return 0"
   ]
  },
  {
   "cell_type": "code",
   "execution_count": null,
   "metadata": {
    "collapsed": true
   },
   "outputs": [],
   "source": [
    "def xj_finder(sentence_string):\n",
    "    processed = string_preprocessor(sentence_string)\n",
    "    if (\"xj$\" in processed) or (\"xjs$\" in processed):\n",
    "        return 1\n",
    "    else:\n",
    "        return 0"
   ]
  },
  {
   "cell_type": "code",
   "execution_count": null,
   "metadata": {
    "collapsed": true
   },
   "outputs": [],
   "source": [
    "def es_finder(sentence_string):\n",
    "    import re\n",
    "    processed = string_preprocessor(sentence_string)\n",
    "    for i in processed:\n",
    "        if re.match('es[0-9]?[0-9]?[0-9]?$', i):\n",
    "            return 1\n",
    "        if re.match('lexuses'):\n",
    "            return 1\n",
    "    return 0 "
   ]
  },
  {
   "cell_type": "code",
   "execution_count": null,
   "metadata": {
    "collapsed": true
   },
   "outputs": [],
   "source": [
    "def ls_finder(sentence_string):\n",
    "    import re\n",
    "    processed = string_preprocessor(sentence_string)\n",
    "    for i in processed:\n",
    "        if re.match(\"ls[0-9]?[0-9]?[0-9]?$\", i):\n",
    "            return 1\n",
    "        if re.match(\"lexusls\", i):\n",
    "            return 1\n",
    "    return 0"
   ]
  },
  {
   "cell_type": "code",
   "execution_count": null,
   "metadata": {
    "collapsed": true
   },
   "outputs": [],
   "source": [
    "def rx_finder(sentence_string):\n",
    "    import re\n",
    "    processed = string_preprocessor(sentence_string)\n",
    "    for i in processed:\n",
    "        if re.match(\"rx[0-9]?[0-9]?[0-9]?$\", i):\n",
    "            return 1\n",
    "        if re.match(\"lexusrx\"):\n",
    "            return 1\n",
    "    return 0"
   ]
  },
  {
   "cell_type": "code",
   "execution_count": null,
   "metadata": {
    "collapsed": true
   },
   "outputs": [],
   "source": [
    "def sclass_finder(sentence_string):\n",
    "    import re\n",
    "    processed = string_preprocessor(sentence_string)\n",
    "    for i in processed:\n",
    "        if re.match('sclass$', i):\n",
    "            return 1\n",
    "        if re.match('s[0-9][0-9][0-9]?$', i):\n",
    "            return 1\n",
    "        if re.match('mb$', i):\n",
    "            return 1\n",
    "        \n",
    "    return 0"
   ]
  },
  {
   "cell_type": "code",
   "execution_count": null,
   "metadata": {
    "collapsed": true
   },
   "outputs": [],
   "source": [
    "def bmw_finder(sentence):\n",
    "    \"3[0-9][0-9]\\d?\\d?\" regex match (should match 320i, 325xi, etc.)\n",
    "    \"3-Series\" fuzzy match (should match 3 series, 3-series etc.)\n",
    "    \"M3\" hard match\n",
    "    same for 5 and 7 series (except m7)"
   ]
  },
  {
   "cell_type": "code",
   "execution_count": null,
   "metadata": {
    "collapsed": true
   },
   "outputs": [],
   "source": [
    "def series3_finder(sentence_string):\n",
    "    from fuzzywuzzy import process\n",
    "    import re\n",
    "    processed = string_preprocessor(sentence_string)\n",
    "    for i in processed:\n",
    "        if re.match('3[0-9][0-9]\\d?\\d?$', i):\n",
    "            return 1\n",
    "        if re.match('3series$', i):\n",
    "            return 1\n",
    "        if re.match('M3$', i):\n",
    "            return 1\n",
    "    return 0"
   ]
  },
  {
   "cell_type": "code",
   "execution_count": null,
   "metadata": {
    "collapsed": true
   },
   "outputs": [],
   "source": [
    "from fuzzywuzzy import process\n",
    "process.extractOne('')"
   ]
  }
 ],
 "metadata": {
  "kernelspec": {
   "display_name": "Python 2",
   "language": "python",
   "name": "python2"
  },
  "language_info": {
   "codemirror_mode": {
    "name": "ipython",
    "version": 2
   },
   "file_extension": ".py",
   "mimetype": "text/x-python",
   "name": "python",
   "nbconvert_exporter": "python",
   "pygments_lexer": "ipython2",
   "version": "2.7.10"
  }
 },
 "nbformat": 4,
 "nbformat_minor": 0
}
