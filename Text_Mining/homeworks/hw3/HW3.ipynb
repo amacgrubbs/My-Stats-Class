{
 "cells": [
  {
   "cell_type": "code",
   "execution_count": 10,
   "metadata": {
    "collapsed": true
   },
   "outputs": [],
   "source": [
    "import textblob\n",
    "import numpy as np"
   ]
  },
  {
   "cell_type": "code",
   "execution_count": 7,
   "metadata": {
    "collapsed": true
   },
   "outputs": [],
   "source": [
    "b = \"this is a sample string these are words that I am testing I don't know \\\n",
    "    what else to write in this becasue this is weird. I'm in class right now \\\n",
    "    and things are happening. the professor is talking about pagerank and \\\n",
    "    and yahoo. Man this guy is cool hes talking about lynx.\""
   ]
  },
  {
   "cell_type": "code",
   "execution_count": 11,
   "metadata": {
    "collapsed": false,
    "scrolled": true
   },
   "outputs": [],
   "source": [
    "from nltk.corpus import stopwords\n",
    "cached_stopwords = stopwords.words('english')\n",
    "\n",
    "def gen_entity_sentiment(input_string, entity_name,  n):\n",
    "    np_string = np.string_(input_string)\n",
    "    words = np.array([word for word in np_string.split() if word not in cached_stopwords])\n",
    "    entity_locations = np.where(words == entity_name)[0]\n",
    "    entity_context = []\n",
    "    for i in entity_locations:\n",
    "        entity_context.append(' '.join(words[max(0, i-n):i+n+1]))\n",
    "    return entity_context"
   ]
  },
  {
   "cell_type": "code",
   "execution_count": 12,
   "metadata": {
    "collapsed": false
   },
   "outputs": [
    {
     "data": {
      "text/plain": [
       "['things happening. professor talking pagerank yahoo. Man guy old']"
      ]
     },
     "execution_count": 12,
     "metadata": {},
     "output_type": "execute_result"
    }
   ],
   "source": [
    "gen_entity_sentiment(b, 'pagerank', 4)"
   ]
  },
  {
   "cell_type": "code",
   "execution_count": null,
   "metadata": {
    "collapsed": true
   },
   "outputs": [],
   "source": [
    "from nltk import "
   ]
  }
 ],
 "metadata": {
  "kernelspec": {
   "display_name": "Python 2",
   "language": "python",
   "name": "python2"
  },
  "language_info": {
   "codemirror_mode": {
    "name": "ipython",
    "version": 2
   },
   "file_extension": ".py",
   "mimetype": "text/x-python",
   "name": "python",
   "nbconvert_exporter": "python",
   "pygments_lexer": "ipython2",
   "version": "2.7.10"
  }
 },
 "nbformat": 4,
 "nbformat_minor": 0
}
