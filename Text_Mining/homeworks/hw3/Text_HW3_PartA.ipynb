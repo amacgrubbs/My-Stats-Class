{
 "cells": [
  {
   "cell_type": "code",
   "execution_count": 1,
   "metadata": {
    "collapsed": true
   },
   "outputs": [],
   "source": [
    "import pandas as pd\n",
    "import numpy as np\n",
    "\n",
    "sentiments = pd.read_csv(\"Assignment 3 Sentiment Scores.csv\")"
   ]
  },
  {
   "cell_type": "code",
   "execution_count": 2,
   "metadata": {
    "collapsed": false
   },
   "outputs": [],
   "source": [
    "import itertools as iter\n",
    "\n",
    "for pair in list(iter.combinations(sentiments.columns, 2)):\n",
    "    sentiments[pair[0] + \"-\" + pair[1]] = sentiments[pair[0]] - sentiments[pair[1]]"
   ]
  },
  {
   "cell_type": "code",
   "execution_count": 3,
   "metadata": {
    "collapsed": false
   },
   "outputs": [],
   "source": [
    "allModels = []\n",
    "scores = []\n",
    "headers = sentiments.dtypes.index\n",
    "\n",
    "for i in xrange(10,len(sentiments.columns)):\n",
    "    scores = [headers[i].split('-')[0], headers[i].split('-')[1], sentiments.mean()[i]]\n",
    "    allModels.append(scores)"
   ]
  },
  {
   "cell_type": "code",
   "execution_count": 4,
   "metadata": {
    "collapsed": false
   },
   "outputs": [
    {
     "name": "stdout",
     "output_type": "stream",
     "text": [
      "{'XJ': 0.21490534728861949, 'Sclass': 0.28963532245585111, '7series': 0.080577741929975244, 'RX': 0.045708723368505656, 'LS': 0.03749147230469705, 'A6': 0.060346419572449753, 'A8': 0.04629867390324597, '3series': 0.094196223974742296, 'ES': 0.039619243304146859, '5series': 0.09122083189776678}\n"
     ]
    }
   ],
   "source": [
    "import networkx as nx\n",
    "D=nx.DiGraph()\n",
    "\n",
    "D.add_weighted_edges_from(allModels)\n",
    "print nx.pagerank(D)"
   ]
  },
  {
   "cell_type": "code",
   "execution_count": 9,
   "metadata": {
    "collapsed": false
   },
   "outputs": [],
   "source": [
    "import matplotlib.pyplot as plt\n",
    "\n",
    "nx.draw_networkx(D)\n",
    "\n",
    "plt.show()"
   ]
  },
  {
   "cell_type": "code",
   "execution_count": 33,
   "metadata": {
    "collapsed": false
   },
   "outputs": [],
   "source": []
  },
  {
   "cell_type": "code",
   "execution_count": null,
   "metadata": {
    "collapsed": true
   },
   "outputs": [],
   "source": []
  }
 ],
 "metadata": {
  "kernelspec": {
   "display_name": "Python 2",
   "language": "python",
   "name": "python2"
  },
  "language_info": {
   "codemirror_mode": {
    "name": "ipython",
    "version": 2
   },
   "file_extension": ".py",
   "mimetype": "text/x-python",
   "name": "python",
   "nbconvert_exporter": "python",
   "pygments_lexer": "ipython2",
   "version": "2.7.10"
  }
 },
 "nbformat": 4,
 "nbformat_minor": 0
}
