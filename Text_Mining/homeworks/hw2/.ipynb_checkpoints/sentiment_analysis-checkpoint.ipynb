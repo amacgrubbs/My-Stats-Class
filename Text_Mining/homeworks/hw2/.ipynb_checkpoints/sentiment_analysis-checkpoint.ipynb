{
 "cells": [
  {
   "cell_type": "code",
   "execution_count": 1,
   "metadata": {
    "collapsed": true
   },
   "outputs": [],
   "source": [
    "neg_files = \"movie_reviews/neg/\"\n",
    "pos_files = \"movie_reviews/pos/\""
   ]
  },
  {
   "cell_type": "code",
   "execution_count": 2,
   "metadata": {
    "collapsed": true
   },
   "outputs": [],
   "source": [
    "import pandas as pd\n",
    "import os"
   ]
  },
  {
   "cell_type": "code",
   "execution_count": 3,
   "metadata": {
    "collapsed": false
   },
   "outputs": [],
   "source": [
    "def directory_concatenator(directories):\n",
    "    full_frame = pd.DataFrame(columns=[\"review\", \"Pos_sent\"])\n",
    "    for directory in directories:\n",
    "        for i in os.listdir(directory):\n",
    "            new_frame = pd.read_csv(directory+i, sep='\\n', header=None, names=[\"review\", \"Pos_sent\"])\n",
    "            new_frame['Pos_sent'] = int(('pos' == directory[-4:-1]))\n",
    "            full_frame = pd.concat([full_frame, new_frame])\n",
    "    full_frame.reset_index(inplace=True)\n",
    "    full_frame.drop('index', axis=1, inplace=True)\n",
    "    return full_frame"
   ]
  },
  {
   "cell_type": "code",
   "execution_count": 4,
   "metadata": {
    "collapsed": false
   },
   "outputs": [],
   "source": [
    "review_sentiments = directory_concatenator([pos_files, neg_files])"
   ]
  },
  {
   "cell_type": "code",
   "execution_count": 5,
   "metadata": {
    "collapsed": false
   },
   "outputs": [],
   "source": [
    "import string\n",
    "s = \"string. With. Punctuation?\" # Sample string \n",
    "def punct_remover(s):\n",
    "    return s.translate(string.maketrans(\"\",\"\"), string.punctuation)"
   ]
  },
  {
   "cell_type": "code",
   "execution_count": 6,
   "metadata": {
    "collapsed": false
   },
   "outputs": [],
   "source": [
    "review_sentiments['review'] = review_sentiments['review'].map(punct_remover)\n",
    "review_sentiments['review'] = review_sentiments['review'].map(str.lower)\n",
    "review_sentiments['review'] = review_sentiments['review'].map(str.split)\n",
    "review_sentiments['review_len'] = review_sentiments['review'].map(len)"
   ]
  },
  {
   "cell_type": "code",
   "execution_count": 7,
   "metadata": {
    "collapsed": false
   },
   "outputs": [],
   "source": [
    "test_frame = review_sentiments[:5]"
   ]
  },
  {
   "cell_type": "code",
   "execution_count": 36,
   "metadata": {
    "collapsed": false
   },
   "outputs": [],
   "source": [
    "word_sentiments=[]\n",
    "review_sent_only = list(review_sentiments['Pos_sent'].map(int))\n",
    "review_sent_count = list(review_sentiments['review_len'])\n",
    "for i in range(len(review_sent_only)):\n",
    "    word_sent_current = [review_sent_only[i]] * review_sent_count[i]\n",
    "    word_sentiments.append(word_sent_current)"
   ]
  },
  {
   "cell_type": "code",
   "execution_count": null,
   "metadata": {
    "collapsed": false
   },
   "outputs": [],
   "source": []
  },
  {
   "cell_type": "code",
   "execution_count": null,
   "metadata": {
    "collapsed": true
   },
   "outputs": [],
   "source": []
  },
  {
   "cell_type": "code",
   "execution_count": null,
   "metadata": {
    "collapsed": true
   },
   "outputs": [],
   "source": [
    "from sklearn.naive_bayes import MultinomialNB"
   ]
  },
  {
   "cell_type": "code",
   "execution_count": null,
   "metadata": {
    "collapsed": false
   },
   "outputs": [],
   "source": []
  },
  {
   "cell_type": "code",
   "execution_count": null,
   "metadata": {
    "collapsed": true
   },
   "outputs": [],
   "source": []
  },
  {
   "cell_type": "code",
   "execution_count": null,
   "metadata": {
    "collapsed": false
   },
   "outputs": [],
   "source": []
  },
  {
   "cell_type": "code",
   "execution_count": null,
   "metadata": {
    "collapsed": true
   },
   "outputs": [],
   "source": []
  },
  {
   "cell_type": "code",
   "execution_count": null,
   "metadata": {
    "collapsed": true
   },
   "outputs": [],
   "source": []
  },
  {
   "cell_type": "code",
   "execution_count": null,
   "metadata": {
    "collapsed": true
   },
   "outputs": [],
   "source": []
  }
 ],
 "metadata": {
  "kernelspec": {
   "display_name": "Python 2",
   "language": "python",
   "name": "python2"
  },
  "language_info": {
   "codemirror_mode": {
    "name": "ipython",
    "version": 2
   },
   "file_extension": ".py",
   "mimetype": "text/x-python",
   "name": "python",
   "nbconvert_exporter": "python",
   "pygments_lexer": "ipython2",
   "version": "2.7.10"
  }
 },
 "nbformat": 4,
 "nbformat_minor": 0
}
